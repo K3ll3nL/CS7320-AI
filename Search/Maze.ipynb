{
 "cells": [
  {
   "cell_type": "markdown",
   "metadata": {},
   "source": [
    "# Search: Solving a Maze Using a Goal-based Agent\n",
    "\n",
    "## Instructions\n",
    "\n",
    "Total Points: Undergrads 100 / Graduate students 110\n",
    "\n",
    "Complete this notebook. Use the provided notebook cells and insert additional code and markdown cells as needed. Submit the completely rendered notebook as a PDF file. \n",
    "\n",
    "\n",
    "## Introduction\n",
    "\n",
    "The agent has a map of the maze it is in and the environment is assumed to be **deterministic, discrete, and known.** The agent must use the map to plan a path through the maze from the starting location $S$ to the goal location $G$.  This is a planing exercise for a goal-based agent, so you do not need to implement an environment, just use the map to search for a path. Once the plan is made, the agent in a deterministic environment (i.e., the transition function is deterministic with the outcome of each state/action pair fixed and no randomness) can just follow the path and does not need to care about the percepts.\n",
    "This is also called an **[open-loop system](https://en.wikipedia.org/wiki/Open-loop_controller).**\n",
    "The execution phase is trivial and we do not implement it in this exercise.\n",
    "\n",
    "Tree search algorithm implementations that you find online and used in general algorithms courses have often a different aim. These algorithms assume that you already have a tree in memory. We are interested in dynamically creating a search tree with the aim of finding a good/the best path from the root noteto the goal state. Follow the pseudo code presented in the text book (and replicated in the slides) closely. Ideally, we would like to search only a small part of the maze, i.e., create a search tree with as few nodes as possible. \n",
    "\n",
    "Several mazes for this exercise are stored as text files. Here is the small example maze:"
   ]
  },
  {
   "cell_type": "code",
   "execution_count": 11,
   "metadata": {},
   "outputs": [
    {
     "name": "stdout",
     "output_type": "stream",
     "text": [
      "XXXXXXXXXXXXXXXXXXXXXX\n",
      "X XX        X X      X\n",
      "X    XXXXXX X XXXXXX X\n",
      "XXXXXX     S  X      X\n",
      "X    X XXXXXX XX XXXXX\n",
      "X XXXX X         X   X\n",
      "X        XXX XXX   X X\n",
      "XXXXXXXXXX    XXXXXX X\n",
      "XG         XX        X\n",
      "XXXXXXXXXXXXXXXXXXXXXX\n",
      "\n"
     ]
    }
   ],
   "source": [
    "with open(\"small_maze.txt\", \"r\") as f:\n",
    "    maze_str = f.read()\n",
    "print(maze_str)"
   ]
  },
  {
   "cell_type": "markdown",
   "metadata": {},
   "source": [
    "__Note:__ The mazes above contains cycles and therefore the state space may not form proper trees unless cycles are prevented. Therfore, you will need to deal with cycle detection in your code."
   ]
  },
  {
   "cell_type": "markdown",
   "metadata": {},
   "source": [
    "## Parsing and pretty printing the maze\n",
    "\n",
    "The maze can also be displayed in color using code in the module [maze_helper.py](maze_helper.py). The code parses the string representing the maze and converts it into a `numpy` 2d array which you can use in your implementation. Position are represented as a 2-tuple of the form `(row, col)`. "
   ]
  },
  {
   "cell_type": "code",
   "execution_count": 12,
   "metadata": {
    "tags": []
   },
   "outputs": [
    {
     "name": "stdout",
     "output_type": "stream",
     "text": [
      "Position(0,0): X\n",
      "Position(8,1): G\n"
     ]
    }
   ],
   "source": [
    "import maze_helper as mh\n",
    "\n",
    "test_maze = mh.parse_maze(maze_str)\n",
    "\n",
    "# look at a position in the maze by subsetting the 2d array\n",
    "print(\"Position(0,0):\", test_maze[0, 0])\n",
    "\n",
    "# there is also a helper function called `look(maze, pos)` available\n",
    "# which uses a 2-tuple for the position.\n",
    "print(\"Position(8,1):\", mh.look(test_maze, (8, 1)))"
   ]
  },
  {
   "cell_type": "markdown",
   "metadata": {},
   "source": [
    "A helper function to visualize the maze is also available."
   ]
  },
  {
   "cell_type": "code",
   "execution_count": 13,
   "metadata": {},
   "outputs": [
    {
     "data": {
      "text/plain": "<Figure size 432x288 with 1 Axes>",
      "image/png": "[encoded data removed]"
     },
     "metadata": {
      "image/png": {
       "width": 362,
       "height": 183
      },
      "needs_background": "light"
     },
     "output_type": "display_data"
    },
    {
     "name": "stdout",
     "output_type": "stream",
     "text": [
      " \n"
     ]
    }
   ],
   "source": [
    "%matplotlib inline\n",
    "%config InlineBackend.figure_format = 'retina'\n",
    "# use higher resolution images in notebook\n",
    "\n",
    "mh.show_maze(test_maze)\n",
    "print(mh.look(test_maze,(1,1)))"
   ]
  },
  {
   "cell_type": "markdown",
   "metadata": {},
   "source": [
    "Find the position of the start and the goal using the helper function `find_pos()`"
   ]
  },
  {
   "cell_type": "code",
   "execution_count": 14,
   "metadata": {},
   "outputs": [
    {
     "name": "stdout",
     "output_type": "stream",
     "text": [
      "Start location: (3, 11)\n",
      "Goal location: (8, 1)\n"
     ]
    }
   ],
   "source": [
    "print(\"Start location:\", mh.find_pos(test_maze, what = \"S\"))\n",
    "print(\"Goal location:\", mh.find_pos(test_maze, what = \"G\"))"
   ]
  },
  {
   "cell_type": "markdown",
   "metadata": {},
   "source": [
    "Helper function documentation."
   ]
  },
  {
   "cell_type": "code",
   "execution_count": 15,
   "metadata": {},
   "outputs": [
    {
     "name": "stdout",
     "output_type": "stream",
     "text": [
      "Help on module maze_helper:\n",
      "\n",
      "NAME\n",
      "    maze_helper\n",
      "\n",
      "DESCRIPTION\n",
      "    Code for the Maze Assignment by Michael Hahsler\n",
      "    Usage: \n",
      "        import maze_helper as mh\n",
      "        mh.show_some_mazes()\n",
      "\n",
      "FUNCTIONS\n",
      "    find_pos(maze, what='S')\n",
      "        Find start/goal in a maze and returns the first one. \n",
      "        Caution: there is no error checking!\n",
      "        \n",
      "        Parameters:\n",
      "        maze: a array with characters prodced by parse_maze()\n",
      "        what: the letter to be found ('S' for start and 'G' for goal)\n",
      "        \n",
      "        Returns:\n",
      "        a tupple (x, y) for the found position.\n",
      "    \n",
      "    look(maze, pos)\n",
      "        Look at the label of a square with the position as an array of the form (x, y).\n",
      "    \n",
      "    parse_maze(maze_str)\n",
      "        Convert a maze as a string into a 2d numpy array\n",
      "    \n",
      "    show_maze(maze, fontsize=10)\n",
      "        Display a (parsed) maze as an image.\n",
      "    \n",
      "    welcome()\n",
      "        Welcome message.\n",
      "\n",
      "FILE\n",
      "    c:\\users\\kellen long\\onedrive\\documents\\github\\cs7320-ai\\search\\maze_helper.py\n",
      "\n",
      "\n"
     ]
    }
   ],
   "source": [
    "help(mh)"
   ]
  },
  {
   "cell_type": "markdown",
   "metadata": {},
   "source": [
    "## Tree structure\n",
    "\n",
    "Here is an implementation of the basic node structure for the search algorithms (see Fig 3.7 on page 73). I have added a method that extracts the path from the root node to the current node. It can be used to get the path when the search is completed."
   ]
  },
  {
   "cell_type": "code",
   "execution_count": 16,
   "metadata": {},
   "outputs": [],
   "source": [
    "class Node:\n",
    "    def __init__(self, pos, parent, action, cost):\n",
    "        self.pos = tuple(pos)    # the state; positions are (row,col)\n",
    "        self.parent = parent     # reference to parent node. None means root node.\n",
    "        self.action = action     # action used in the transition function (root node has None)\n",
    "        self.cost = cost         # for uniform cost this is the depth. It is also g(n) for A* search\n",
    "\n",
    "    def __str__(self):\n",
    "        return f\"Node - pos = {self.pos}; action = {self.action}; cost = {self.cost}\"\n",
    "    \n",
    "    def get_path_from_root(self):\n",
    "        \"\"\"returns nodes on the path from the root to the current node.\"\"\"\n",
    "        node = self\n",
    "        path = [node]\n",
    "    \n",
    "        while not node.parent is None:\n",
    "            node = node.parent\n",
    "            path.append(node)\n",
    "        \n",
    "        path.reverse()\n",
    "        \n",
    "        return(path)"
   ]
  },
  {
   "cell_type": "markdown",
   "metadata": {},
   "source": [
    "If needed, then you can add more fields to the class like the heuristic value $h(n)$ or $f(n)$.\n",
    "\n",
    "Examples for how to create and use a tree and information on memory management can be found [here](../Python_Code_Examples/trees.ipynb)."
   ]
  },
  {
   "cell_type": "markdown",
   "metadata": {},
   "source": [
    "# Tasks\n",
    "\n",
    "The goal is to:\n",
    "\n",
    "1. Implement the following search algorithms for solving different mazes:\n",
    "\n",
    "    - Breadth-first search (BFS)\n",
    "    - Depth-first search (DFS)\n",
    "    - Greedy best-first search (GBFS)\n",
    "    - A* search\n",
    "\n",
    "2. Run each of the above algorithms on the \n",
    "    - [small maze](small_maze.txt), \n",
    "    - [medium maze](medium_maze.txt), \n",
    "    - [large maze](large_maze.txt), \n",
    "    - [open maze](open_maze.txt),\n",
    "    - [wall maze](wall_maze.txt),\n",
    "    - [loops maze](loops_maze.txt),\n",
    "    - [empty maze](empty_maze.txt), and\n",
    "    - [empty 2_maze](empty_2_maze.txt).\n",
    "    \n",
    "3. For each problem instance and each search algorithm, report the following in a table:\n",
    "\n",
    "    - The solution and its path cost\n",
    "    - Total number of nodes expanded\n",
    "    - Maximum tree depth\n",
    "    - Maximum size of the frontier\n",
    "\n",
    "4. Display each solution by marking every maze square (or state) visited and the squares on the final path.\n",
    "\n",
    "## General [10 Points]\n",
    "\n",
    "1. Make sure that you use the latest version of this notebook. Sync your forked repository and pull the latest revision. \n",
    "2. Your implementation can use libraries like math, numpy, scipy, but not libraries that implement inteligent agents or complete search algorithms. Try to keep the code simple! In this course, we want to learn about the algorithms and we often do not need to use object-oriented design.\n",
    "3. You notebook needs to be formated professionally. \n",
    "    - Add additional markdown blocks for your description, comments in the code, add tables and use mathplotlib to produce charts where appropriate\n",
    "    - Do not show debugging output or include an excessive amount of output.\n",
    "    - Check that your PDF file is readable. For example, long lines are cut off in the PDF file. You don't have control over page breaks, so do not worry about these.\n",
    "4. Document your code. Add a short discussion of how your implementation works and your design choices."
   ]
  },
  {
   "cell_type": "markdown",
   "metadata": {},
   "source": [
    "## Task 1: Defining the search problem and determining the problem size [10 Points]\n",
    "\n",
    "Define the components of the search problem:\n",
    "\n",
    "* Initial state\n",
    "* Actions\n",
    "* Transition model\n",
    "* Goal state\n",
    "* Path cost\n",
    "\n",
    "Use verbal descriptions, variables and equations as appropriate. \n",
    "\n",
    "*Note:* You can swich the next block from code to Markdown and use formating."
   ]
  },
  {
   "cell_type": "markdown",
   "source": [
    "Initial state: the agent is at the starting position with no searching trees developed\n",
    "Actions: {up, down, left, right}\n",
    "Transition model: results(s,a)=s'\n",
    "  if there is an intersection, copy the node for searching purposes and move each node in different directions\n",
    "Goal state: the agent has reached the goal in as few steps as possible\n",
    "Path cost: uniform 1"
   ],
   "metadata": {
    "collapsed": false
   }
  },
  {
   "cell_type": "markdown",
   "metadata": {},
   "source": [
    "Give some estimates for the problem size:\n",
    "\n",
    "* $n$: state space size\n",
    "* $d$: depth of the optimal solution\n",
    "* $m$: maximum depth of tree\n",
    "* $b$: maximum branching factor\n",
    "\n",
    "Describe how you would determin these values for a given maze."
   ]
  },
  {
   "cell_type": "code",
   "execution_count": 8,
   "metadata": {},
   "outputs": [],
   "source": [
    "# Your answer goes here"
   ]
  },
  {
   "cell_type": "markdown",
   "metadata": {},
   "source": [
    "## Task 2: Uninformed search: Breadth-first and depth-first [40 Points]\n",
    "\n",
    "Implement these search strategies. Follow the pseudocode in the textbook/slides. You can use the tree structure shown above to extract the final path from your solution.\n",
    "\n",
    "__Notes:__\n",
    "* You can find maze solving implementations online that use the map to store information. While this is an effective idea for this two-dimensional navigation problem, it typically cannot be used for other search problems. Therefore, follow the textbook and only store information in the tree created during search, and use the `reached` and `frontier` data structures.\n",
    "* DFS can be implemented using the BFS tree search algorithm and simply changing the order in which the frontier is expanded (this is equivalent to best-first search with path length as the criterion to expand the next node). However, to take advantage of the significantly smaller memory footprint of DFS, you need to implement DFS in a different way without a `reached` data structure and by releasing the memory for nodes that are not needed anymore.\n",
    "* If DFS does not use a `reached` data structure, then its cycle checking abilities are limited. Remember, that DSF is incomplete if cycles cannot be prevented. You will see in your experiments that open spaces are a problem."
   ]
  },
  {
   "cell_type": "code",
   "execution_count": 56,
   "metadata": {},
   "outputs": [],
   "source": [
    "import numpy as np\n",
    "\n",
    "\n",
    "# Your code goes here\n",
    "def breadth_first_search(maze):\n",
    "    root = Node(mh.find_pos(maze,\"S\"),None,None,0)\n",
    "    frontier = [root]\n",
    "    reached = [root.pos]\n",
    "\n",
    "\n",
    "    # A few tools to make it easier to iterate over things\n",
    "    directions = {\"up\",  \"down\",  \"left\",  \"right\"}\n",
    "    xdelta = {\"up\":-1,  \"down\":1,  \"left\":0,  \"right\":0}\n",
    "    ydelta = {\"up\":0,  \"down\":0,  \"left\":-1,  \"right\":1}\n",
    "    opposite = {\"up\":\"down\",  \"down\":\"up\",  \"left\":\"right\",  \"right\":\"left\", None:\"None\"}\n",
    "\n",
    "    # The engine of the breadth first search, ends when the current searching node is the goal or the queue is empty\n",
    "    while len(frontier) > 0:\n",
    "\n",
    "        # mh.show_maze(maze)\n",
    "\n",
    "        curr = frontier.pop(0)\n",
    "        for move in directions:\n",
    "            # The following if statement tests for 3 things\n",
    "            # 1. That the next action cannot be opposite the last (ie. going backwards)\n",
    "            # 2. That the next action does not move into a wall\n",
    "            # 3. That the next action has not been traversed yet\n",
    "            if opposite[curr.action] != move and mh.look(maze,(curr.pos[0]+xdelta[move],  curr.pos[1]+ydelta[move])) != 'X':\n",
    "                # The move has now been determined to be viable, and the new node for that direction is added to the frontier list and that position is added to the reached structure\n",
    "                next = Node((curr.pos[0]+xdelta[move],curr.pos[1]+ydelta[move]), curr, move, curr.cost+1)\n",
    "                if not curr.pos == mh.find_pos(maze,\"S\") and mh.look(maze,(curr.pos[0]+xdelta[move],  curr.pos[1]+ydelta[move]))!=\"G\":\n",
    "                    maze[curr.pos] = \".\"\n",
    "                    maze[next.pos] = \"P\"\n",
    "                if mh.look(maze,next.pos)=='G':\n",
    "                    for place in curr.get_path_from_root():\n",
    "                        maze[place.pos] = 'F' if maze[place.pos]!='S' else 'S'\n",
    "                    mh.show_maze(maze)\n",
    "                    return next\n",
    "                if (curr.pos[0]+xdelta[move],curr.pos[1]+ydelta[move]) not in reached:\n",
    "                    reached.append((curr.pos[0]+xdelta[move],curr.pos[1]+ydelta[move]))\n",
    "                    frontier.append(next)\n",
    "\n",
    "    return \"Failure\"\n",
    "\n",
    "\n",
    "def depth_first_search(maze):\n",
    "    root = Node(mh.find_pos(maze,\"S\"),None,None,0)\n",
    "    frontier = [root]\n",
    "\n",
    "\n",
    "    # The same tools as earlier to make it easier to use the functions\n",
    "    directions = {\"left\",  \"right\",  \"up\",  \"down\"}\n",
    "    xdelta = {\"up\":-1,  \"down\":1,  \"left\":0,  \"right\":0}\n",
    "    ydelta = {\"up\":0,  \"down\":0,  \"left\":-1,  \"right\":1}\n",
    "    opposite = {\"up\":\"down\",  \"down\":\"up\",  \"left\":\"right\",  \"right\":\"left\", None:\"None\"}\n",
    "\n",
    "    def no_cycles(node): #returns false if there is a cycle, true otherwise\n",
    "        position = node.pos\n",
    "        curr = node\n",
    "        while curr.parent is not None:\n",
    "            curr = curr.parent\n",
    "            if curr.pos == position:\n",
    "                return False\n",
    "        return True\n",
    "\n",
    "\n",
    "    def better_path(frontier,node): #returns a boolean expressing if there is a better path\n",
    "        for temp in frontier:\n",
    "            if temp.pos == node.pos and temp.cost < node.cost:\n",
    "                return True\n",
    "        return False\n",
    "\n",
    "\n",
    "    while len(frontier)>0:\n",
    "\n",
    "        # mh.show_maze(maze)\n",
    "\n",
    "        curr = frontier.pop(len(frontier)-1)\n",
    "        if mh.look(maze,curr.pos)=='G':\n",
    "            for place in curr.get_path_from_root():\n",
    "                maze[place.pos] = 'F' if (maze[place.pos]!='S' and maze[place.pos]!='G') else maze[place.pos]\n",
    "            mh.show_maze(maze)\n",
    "            return curr\n",
    "        for move in directions:\n",
    "            #the same if statement as above\n",
    "            if opposite[curr.action] != move and mh.look(maze,(curr.pos[0]+xdelta[move],  curr.pos[1]+ydelta[move])) != 'X':\n",
    "                next = Node((curr.pos[0]+xdelta[move],  curr.pos[1]+ydelta[move]),curr,move,curr.cost+1)\n",
    "                if no_cycles(next) and not better_path(frontier,next):\n",
    "                    frontier.append(next)\n",
    "                    if next.parent is not None:\n",
    "                        maze[next.parent.pos] = '.' if (maze[next.parent.pos]!='S' and maze[next.parent.pos]!='G') else maze[next.parent.pos]\n",
    "                        maze[next.pos] = 'P' if (maze[next.pos]!='S' and maze[next.pos]!='G') else maze[next.pos]\n",
    "    return \"failure\"\n",
    "\n",
    "\n",
    "\n"
   ]
  },
  {
   "cell_type": "markdown",
   "metadata": {},
   "source": [
    "### How does BFS and DFS deal with loops (cycles)?"
   ]
  },
  {
   "cell_type": "markdown",
   "source": [
    "BFS and DFS both deal with cycles in different ways. Since a BFS is a minimum spanning tree, it must make sure there are no collisions anywhere in the tree. DFS, however, does not need to check for any collisions, just if there are any cycles in the path it currently follows. The other collisions are taken out later in the algorithm when it checks for a more efficient way to reach the current path."
   ],
   "metadata": {
    "collapsed": false
   }
  },
  {
   "cell_type": "markdown",
   "metadata": {},
   "source": [
    "### Are your implementations complete and optimal? Explain why. What is the time and space complexity of each of **your** implementations"
   ]
  },
  {
   "cell_type": "markdown",
   "source": [
    "The implementations are complete, but DFS is not optimal. BFS finds the closest path that reaches a goal, but DFS just finds a working solution; this may not necessarily be the shortest path."
   ],
   "metadata": {
    "collapsed": false
   }
  },
  {
   "cell_type": "markdown",
   "metadata": {},
   "source": [
    "## Task 3: Informed search: Implement greedy best-first search and A* search  [20 Points]\n",
    "\n",
    "You can use the map to estimate the distance from your current position to the goal using the Manhattan distance (see https://en.wikipedia.org/wiki/Taxicab_geometry) as a heuristic function. Both algorithms are based on Best-First search which requires only a small change from the BFS algorithm you have already implemented (see textbook/slides). "
   ]
  },
  {
   "cell_type": "code",
   "execution_count": 45,
   "metadata": {},
   "outputs": [],
   "source": [
    "from math import sqrt\n",
    "import maze_helper as mh\n",
    "\n",
    "\n",
    "def calc_distance(coord1,coord2):\n",
    "    return (abs(coord1[0]-coord2[0]))+(abs(coord1[1]-coord2[1]))\n",
    "\n",
    "\n",
    "\n",
    "def best_first_search(maze, path_cost):\n",
    "    root = Node(mh.find_pos(maze,\"S\"),None,None,0)\n",
    "    frontier = [root]\n",
    "\n",
    "\n",
    "    # The same tools as earlier to make it easier to use the functions\n",
    "    directions = {\"up\",  \"down\",  \"left\",  \"right\"}\n",
    "    xdelta = {\"up\":-1,  \"down\":1,  \"left\":0,  \"right\":0}\n",
    "    ydelta = {\"up\":0,  \"down\":0,  \"left\":-1,  \"right\":1}\n",
    "    opposite = {\"up\":\"down\",  \"down\":\"up\",  \"left\":\"right\",  \"right\":\"left\", None:\"None\"}\n",
    "\n",
    "    def no_cycles(node): #returns false if there is a cycle, true otherwise\n",
    "        position = node.pos\n",
    "        temp = node\n",
    "        while temp.parent is not None:\n",
    "            temp = curr.parent\n",
    "            if temp.pos == position:\n",
    "                return False\n",
    "        return True\n",
    "\n",
    "\n",
    "    def better_path(frontier,node): #returns a boolean expressing if there is a better path\n",
    "        for temp in frontier:\n",
    "            if temp.pos == node.pos and temp.cost < node.cost:\n",
    "                return True\n",
    "        return False\n",
    "\n",
    "\n",
    "    while len(frontier)>0:\n",
    "        frontier.sort(key=lambda x:x.cost)\n",
    "        curr = frontier.pop(0)\n",
    "        if mh.look(maze,curr.pos)=='G':\n",
    "            for place in curr.get_path_from_root():\n",
    "                maze[place.pos] = 'F' if (maze[place.pos]!='S' and maze[place.pos]!='G') else maze[place.pos]\n",
    "            mh.show_maze(maze)\n",
    "            return curr\n",
    "        for move in directions:\n",
    "            #the same if statement as above\n",
    "            if opposite[curr.action] != move and mh.look(maze,(curr.pos[0]+xdelta[move],  curr.pos[1]+ydelta[move])) != 'X':\n",
    "                next = Node((curr.pos[0]+xdelta[move],curr.pos[1]+ydelta[move]),curr,move,curr.cost+path_cost)\n",
    "                if no_cycles(next) and not better_path(frontier,next):\n",
    "                    frontier.append(next)\n",
    "                    if next.parent is not None:\n",
    "                        maze[next.parent.pos] = '.' if (maze[next.parent.pos]!='S' and maze[next.parent.pos]!='G') else maze[next.parent.pos]\n",
    "                        maze[next.pos] = 'P' if (maze[next.pos]!='S' and maze[next.pos]!='G') else maze[next.pos]\n",
    "    return \"failure\"\n",
    "\n",
    "\n",
    "def greedy_best_first_search(maze):\n",
    "    global directions,xdelta,ydelta,opposite\n",
    "    root = Node(mh.find_pos(maze,\"S\"),None,None,0)\n",
    "    frontier = [root]\n",
    "\n",
    "\n",
    "    # The same tools as earlier to make it easier to use the functions\n",
    "    directions = {\"up\",  \"down\",  \"left\",  \"right\"}\n",
    "    xdelta = {\"up\":-1,  \"down\":1,  \"left\":0,  \"right\":0}\n",
    "    ydelta = {\"up\":0,  \"down\":0,  \"left\":-1,  \"right\":1}\n",
    "    opposite = {\"up\":\"down\",  \"down\":\"up\",  \"left\":\"right\",  \"right\":\"left\", None:\"None\"}\n",
    "\n",
    "    def no_cycles(node): #returns false if there is a cycle, true otherwise\n",
    "        position = node.pos\n",
    "        temp = node\n",
    "        while temp.parent is not None:\n",
    "            temp = temp.parent\n",
    "            if temp.pos == position:\n",
    "                return False\n",
    "        return True\n",
    "\n",
    "\n",
    "    def better_path(frontier,node): #returns a boolean expressing if there is a better path\n",
    "        for temp in frontier:\n",
    "            if temp.pos == node.pos and temp.cost < node.cost:\n",
    "                return True\n",
    "        return False\n",
    "\n",
    "    def heuristic():\n",
    "        return calc_distance((curr.pos[0]+xdelta[move], curr.pos[1]+ydelta[move]), mh.find_pos(maze,'G'))\n",
    "\n",
    "\n",
    "    while len(frontier)>0:\n",
    "        frontier.sort(key=lambda x:x.cost)\n",
    "        curr = frontier.pop(0)\n",
    "        if mh.look(maze,curr.pos)=='G':\n",
    "            for place in curr.get_path_from_root():\n",
    "                maze[place.pos] = 'F' if (maze[place.pos]!='S' and maze[place.pos]!='G') else maze[place.pos]\n",
    "            mh.show_maze(maze)\n",
    "            return curr\n",
    "        for move in directions:\n",
    "            #the same if statement as above\n",
    "            if opposite[curr.action] != move and mh.look(maze,(curr.pos[0]+xdelta[move],  curr.pos[1]+ydelta[move])) != 'X':\n",
    "                next = Node((curr.pos[0]+xdelta[move],curr.pos[1]+ydelta[move]),curr,move,curr.cost+heuristic())\n",
    "                if no_cycles(next) and not better_path(frontier,next):\n",
    "                    frontier.append(next)\n",
    "                    if next.parent is not None:\n",
    "                        maze[next.parent.pos] = '.' if (maze[next.parent.pos]!='S' and maze[next.parent.pos]!='G') else maze[next.parent.pos]\n",
    "                        maze[next.pos] = 'P' if (maze[next.pos]!='S' and maze[next.pos]!='G') else maze[next.pos]\n",
    "    return \"failure\"\n",
    "\n",
    "\n",
    "\n",
    "def A_star_search(maze):\n",
    "    global directions,xdelta,ydelta,opposite\n",
    "    root = Node(mh.find_pos(maze,\"S\"),None,None,0)\n",
    "    frontier = [root]\n",
    "\n",
    "\n",
    "    # The same tools as earlier to make it easier to use the functions\n",
    "    directions = {\"up\",  \"down\",  \"left\",  \"right\"}\n",
    "    xdelta = {\"up\":-1,  \"down\":1,  \"left\":0,  \"right\":0}\n",
    "    ydelta = {\"up\":0,  \"down\":0,  \"left\":-1,  \"right\":1}\n",
    "    opposite = {\"up\":\"down\",  \"down\":\"up\",  \"left\":\"right\",  \"right\":\"left\", None:\"None\"}\n",
    "\n",
    "    def no_cycles(node): #returns false if there is a cycle, true otherwise\n",
    "        position = node.pos\n",
    "        temp = node\n",
    "        while temp.parent is not None:\n",
    "            temp = temp.parent\n",
    "            if temp.pos == position:\n",
    "                return False\n",
    "        return True\n",
    "\n",
    "\n",
    "    def better_path(frontier,node): #returns a boolean expressing if there is a better path\n",
    "        for temp in frontier:\n",
    "            if temp.pos == node.pos and temp.cost < node.cost:\n",
    "                return True\n",
    "        return False\n",
    "\n",
    "    def heuristic():\n",
    "        return calc_distance((curr.pos[0]+xdelta[move], curr.pos[1]+ydelta[move]), mh.find_pos(maze,'G'))+int(curr.parent.cost if curr.parent is not None else 0)\n",
    "\n",
    "\n",
    "    while len(frontier)>0:\n",
    "        frontier.sort(key=lambda x:x.cost)\n",
    "        curr = frontier.pop(0)\n",
    "        if mh.look(maze,curr.pos)=='G':\n",
    "            for place in curr.get_path_from_root():\n",
    "                maze[place.pos] = 'F' if (maze[place.pos]!='S' and maze[place.pos]!='G') else maze[place.pos]\n",
    "            mh.show_maze(maze)\n",
    "            return curr\n",
    "        for move in directions:\n",
    "            #the same if statement as above\n",
    "            if opposite[curr.action] != move and mh.look(maze,(curr.pos[0]+xdelta[move],  curr.pos[1]+ydelta[move])) != 'X':\n",
    "                next = Node((curr.pos[0]+xdelta[move],curr.pos[1]+ydelta[move]),curr,move,curr.cost+heuristic())\n",
    "                if no_cycles(next) and not better_path(frontier,next):\n",
    "                    frontier.append(next)\n",
    "                    if next.parent is not None:\n",
    "                        maze[next.parent.pos] = '.' if (maze[next.parent.pos]!='S' and maze[next.parent.pos]!='G') else maze[next.parent.pos]\n",
    "                        maze[next.pos] = 'P' if (maze[next.pos]!='S' and maze[next.pos]!='G') else maze[next.pos]\n",
    "    return \"failure\"\n",
    "\n"
   ]
  },
  {
   "cell_type": "markdown",
   "metadata": {},
   "source": [
    "### Are your implementations complete and optimal? What is the time and space complexity?"
   ]
  },
  {
   "cell_type": "markdown",
   "source": [
    "Both implementations are complete and optimal."
   ],
   "metadata": {
    "collapsed": false
   }
  },
  {
   "cell_type": "markdown",
   "metadata": {},
   "source": [
    "## Task 4: Comparison and discussion [20 Points] \n",
    "\n",
    "Run experiments to compare the implemented algorithms.\n",
    "\n",
    "How to deal with issues:\n",
    "\n",
    "* Your implementation returns unexpected results: Try to debug and fix the code. Visualizing the maze, the current path and the frontier after every step is very helpful. If the code still does not work, then mark the result with an asterisk (*) and describe the issue below the table.\n",
    "\n",
    "* Your implementation cannot consistently solve a specific maze and ends up in an infinite loop:\n",
    "    Debug. If it is a shortcoming of the algorithm/implementation, then put \"N/A*\" in the results table and describe why this is happening."
   ]
  },
  {
   "cell_type": "code",
   "execution_count": 57,
   "metadata": {},
   "outputs": [
    {
     "data": {
      "text/plain": "<Figure size 432x288 with 1 Axes>",
      "image/png": "[encoded data removed]"
     },
     "metadata": {
      "image/png": {
       "width": 362,
       "height": 183
      },
      "needs_background": "light"
     },
     "output_type": "display_data"
    },
    {
     "name": "stdout",
     "output_type": "stream",
     "text": [
      "worked\n"
     ]
    }
   ],
   "source": [
    "# maze_list = [\"small_maze.txt\", \"empty_2_maze.txt\"]\n",
    "# for maze in maze_list:\n",
    "#     mh.show_maze(mh.parse_maze(open(maze, \"r\").read()))\n",
    "\n",
    "example_maze = mh.parse_maze(open(\"small_maze.txt\", \"r\").read())\n",
    "search = depth_first_search(example_maze)\n",
    "print(\"worked\" if search!=\"failure\" else \"failed\")"
   ]
  },
  {
   "cell_type": "markdown",
   "metadata": {},
   "source": [
    "Complete the following table for each maze.\n",
    "\n",
    "__Small maze__\n",
    "\n",
    "| algorithm | path cost | # of nodes expanded | max tree depth | max # of nodes in memory | max frontier size |\n",
    "|-----------|-----------|----------------|----------------|---------------|-------------------|\n",
    "| BFS       |           |                |                |               |                   |\n",
    "| DFS       |           |                |                |               |                   |\n",
    "| GBS       |           |                |                |               |                   |\n",
    "| A*        |           |                |                |               |                   |\n",
    "\n",
    "__Medium Maze__\n",
    "\n",
    "..."
   ]
  },
  {
   "cell_type": "markdown",
   "metadata": {},
   "source": [
    "Present the results as using charts (see [Python Code Examples/charts and tables](../Python_Code_Examples/charts_and_tables.ipynb)). "
   ]
  },
  {
   "cell_type": "code",
   "execution_count": 15,
   "metadata": {},
   "outputs": [],
   "source": [
    "# Add charts"
   ]
  },
  {
   "cell_type": "markdown",
   "metadata": {},
   "source": [
    "Discuss the most important lessons you have learned from implementing the different search strategies. "
   ]
  },
  {
   "cell_type": "code",
   "execution_count": 16,
   "metadata": {},
   "outputs": [],
   "source": [
    "# Add discussion"
   ]
  },
  {
   "cell_type": "markdown",
   "metadata": {},
   "source": [
    "## Graduate student advanced task: IDS and Multiple goals [10 Points]\n",
    "\n",
    "__Undergraduate students:__ This is a bonus task you can attempt if you like [+5 Bonus Points].\n",
    "\n",
    "Create a few mazes with multiple goals by adding one or two more goals to the medium size maze.\n",
    "Solve the maze with your implementations for DFS, BFS, and implement in addition IDS (iterative deepening search using DFS). \n",
    "\n",
    "Run experiments to show which implementations find the optimal solution and which do not. Discuss why that is the case."
   ]
  },
  {
   "cell_type": "code",
   "execution_count": 17,
   "metadata": {},
   "outputs": [],
   "source": [
    "# Your code/answer goes here"
   ]
  },
  {
   "cell_type": "markdown",
   "metadata": {},
   "source": [
    "## More advanced tasks to think about\n",
    "\n",
    "Instead of defining each square as a state, use only intersections as states. Now the storage requirement is reduced, but the path length between two intersections can be different. If we use total path length measured as the number of squares as path cost, how can we make sure that BFS and iterative deepening search is optimal? Change the code to do so."
   ]
  },
  {
   "cell_type": "code",
   "execution_count": 18,
   "metadata": {},
   "outputs": [],
   "source": [
    "# Your code/answer goes here"
   ]
  },
  {
   "cell_type": "markdown",
   "metadata": {},
   "source": [
    "Modify your A* search to add weights (see text book) and explore how different weights influence the result."
   ]
  },
  {
   "cell_type": "code",
   "execution_count": 19,
   "metadata": {},
   "outputs": [],
   "source": [
    "# Your code/answer goes here"
   ]
  },
  {
   "cell_type": "markdown",
   "metadata": {},
   "source": [
    "What happens if the agent does not know the layout of the maze in advance (i.e., faces an unkown, only partially observable environment)? How does the environment look then (PEAS description)? How would you implement a rational agent to solve the maze? What if the agent still has a GPS device to tell the distance to the goal?"
   ]
  },
  {
   "cell_type": "code",
   "execution_count": 20,
   "metadata": {},
   "outputs": [],
   "source": [
    "# Your code/answer goes here"
   ]
  }
 ],
 "metadata": {
  "kernelspec": {
   "display_name": "Python 3 (ipykernel)",
   "language": "python",
   "name": "python3"
  },
  "language_info": {
   "codemirror_mode": {
    "name": "ipython",
    "version": 3
   },
   "file_extension": ".py",
   "mimetype": "text/x-python",
   "name": "python",
   "nbconvert_exporter": "python",
   "pygments_lexer": "ipython3",
   "version": "3.9.5"
  }
 },
 "nbformat": 4,
 "nbformat_minor": 4
}