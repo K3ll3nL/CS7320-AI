{
 "cells": [
  {
   "cell_type": "markdown",
   "metadata": {},
   "source": [
    "# Solving the n-Queens Problem using Local Search\n",
    "\n",
    "## Instructions\n",
    "\n",
    "Total Points: Undergrads 100 / Graduate students 110\n",
    "\n",
    "Complete this notebook. Use the provided notebook cells and insert additional code and markdown cells as needed. Submit the completely rendered notebook as a PDF file. \n"
   ]
  },
  {
   "cell_type": "markdown",
   "metadata": {},
   "source": [
    "## The n-Queens Problem\n",
    "\n",
    "* __Goal:__ Find an arrangement of $n$ queens on a $n \\times n$ chess board so that no queen is on the same row, column or diagonal as any other queen.\n",
    "\n",
    "* __State space:__ An arrangement of the queens on the board. We restrict the state space to arrangements where there is only a single queen per column. We represent a state as an integer vector $\\mathbf{q} = \\{q_1, q_2, \\dots, q_n\\}$, each number representing the row positions of the queens from left to right. We will call a state a \"board.\"\n",
    "\n",
    "* __Objective function:__ The number of pairwise conflicts (i.e., two queens in the same row/column/diagonal).\n",
    "The optimization problem is to find the optimal arrangement $\\mathbf{q}^*$ of $n$ queens on the board can be written as:\n",
    "\n",
    "  > minimize: $\\mathrm{conflicts}(\\mathbf{q})$\n",
    "  >\n",
    "  > subject to: $\\mathbf{q} \\ \\text{contains only one queen per column}$\n",
    "\n",
    "  Note: the constraint (subject to) is enforced by the definition of the state space.\n",
    "\n",
    "* __Local improvement move:__ Move one queen to a different row in its column.\n",
    "\n",
    "* __Termination:__ For this problem there is always an arrangement $\\mathbf{q}^*$ with $\\mathrm{conflicts}(\\mathbf{q}^*) = 0$, however, the local improvement moves might end up in a local minimum. "
   ]
  },
  {
   "cell_type": "markdown",
   "metadata": {},
   "source": [
    "## Helper functions"
   ]
  },
  {
   "cell_type": "code",
   "execution_count": 1,
   "metadata": {},
   "outputs": [],
   "source": [
    "import random\n",
    "\n",
    "import numpy as np\n",
    "import matplotlib.pyplot as plt\n",
    "from matplotlib import colors\n",
    "\n",
    "np.random.seed(1234)\n",
    "\n",
    "\n",
    "def random_board(n):\n",
    "    \"\"\"Creates a random board of size n x n. Note that only a single queen is placed in each column!\"\"\"\n",
    "    \n",
    "    return(np.random.randint(0,n, size = n))\n",
    "\n",
    "def comb2(n): return n*(n-1)//2 # this is n choose 2 equivalent to math.comb(n, 2); // is int division\n",
    "\n",
    "def conflicts(board):\n",
    "    \"\"\"Caclulate the number of conflicts, i.e., the objective function.\"\"\"\n",
    "\n",
    "    n = len(board)\n",
    "    \n",
    "    horizontal_cnt = [0] * n\n",
    "    diagonal1_cnt = [0] * 2 * n\n",
    "    diagonal2_cnt = [0] * 2 * n\n",
    "    \n",
    "    for i in range(n):\n",
    "        horizontal_cnt[board[i]] += 1\n",
    "        diagonal1_cnt[i + board[i]] += 1\n",
    "        diagonal2_cnt[i - board[i] + n] += 1\n",
    "    \n",
    "    return sum(map(comb2, horizontal_cnt + diagonal1_cnt + diagonal2_cnt))\n",
    "\n",
    "\n",
    "def show_board(board, cols = ['white', 'gray'], fontsize = 48):  \n",
    "    \"\"\"display the board\"\"\"\n",
    "    \n",
    "    n = len(board)\n",
    "    \n",
    "    # create chess board display\n",
    "    display = np.zeros([n,n])\n",
    "    for i in range(n):\n",
    "        for j in range(n):\n",
    "            if (((i+j) % 2) != 0): \n",
    "                display[i,j] = 1\n",
    "    \n",
    "    cmap = colors.ListedColormap(cols)\n",
    "    fig, ax = plt.subplots()\n",
    "    ax.imshow(display, cmap = cmap, \n",
    "              norm = colors.BoundaryNorm(range(len(cols)+1), cmap.N))\n",
    "    ax.set_xticks([])\n",
    "    ax.set_yticks([])\n",
    "    \n",
    "    # place queens. Note: Unicode u265B is a black queen\n",
    "    for j in range(n):\n",
    "        plt.text(j, board[j], u\"\\u265B\", fontsize = fontsize, \n",
    "                 horizontalalignment = 'center',\n",
    "                 verticalalignment = 'center')\n",
    "    \n",
    "    print(f\"Board with {conflicts(board)} conflicts.\")\n",
    "    plt.show()"
   ]
  },
  {
   "cell_type": "markdown",
   "metadata": {},
   "source": [
    "## Create a board"
   ]
  },
  {
   "cell_type": "code",
   "execution_count": 2,
   "metadata": {},
   "outputs": [
    {
     "name": "stdout",
     "output_type": "stream",
     "text": [
      "Board with 4 conflicts.\n"
     ]
    },
    {
     "data": {
      "text/plain": "<Figure size 432x288 with 1 Axes>",
      "image/png": "[encoded data removed]"
     },
     "metadata": {},
     "output_type": "display_data"
    },
    {
     "name": "stdout",
     "output_type": "stream",
     "text": [
      "Queens (left to right) are at rows: [3 3 2 1]\n",
      "Number of conflicts: 4\n"
     ]
    }
   ],
   "source": [
    "board = random_board(4)\n",
    "\n",
    "show_board(board)\n",
    "print(f\"Queens (left to right) are at rows: {board}\")\n",
    "print(f\"Number of conflicts: {conflicts(board)}\")"
   ]
  },
  {
   "cell_type": "markdown",
   "metadata": {},
   "source": [
    "A board $4 \\times 4$ with no conflicts:"
   ]
  },
  {
   "cell_type": "code",
   "execution_count": 3,
   "metadata": {},
   "outputs": [
    {
     "name": "stdout",
     "output_type": "stream",
     "text": [
      "Board with 0 conflicts.\n"
     ]
    },
    {
     "data": {
      "text/plain": "<Figure size 432x288 with 1 Axes>",
      "image/png": "[encoded data removed]"
     },
     "metadata": {},
     "output_type": "display_data"
    }
   ],
   "source": [
    "board = [1,3,0,2]\n",
    "show_board(board)"
   ]
  },
  {
   "cell_type": "markdown",
   "metadata": {},
   "source": [
    "# Tasks\n",
    "\n",
    "## General [10 Points]\n",
    "\n",
    "1. Make sure that you use the latest version of this notebook. Sync your forked repository and pull the latest revision. \n",
    "2. Your implementation can use libraries like math, numpy, scipy, but not libraries that implement inteligent agents or complete search algorithms. Try to keep the code simple! In this course, we want to learn about the algorithms and we often do not need to use object-oriented design.\n",
    "3. You notebook needs to be formated professionally. \n",
    "    - Add additional markdown blocks for your description, comments in the code, add tables and use mathplotlib to produce charts where appropriate\n",
    "    - Do not show debugging output or include an excessive amount of output.\n",
    "    - Check that your PDF file is readable. For example, long lines are cut off in the PDF file. You don't have control over page breaks, so do not worry about these.\n",
    "4. Document your code. Add a short discussion of how your implementation works and your design choices."
   ]
  },
  {
   "cell_type": "markdown",
   "metadata": {},
   "source": [
    "## Task 1: Steepest-ascend Hill Climbing Search [30 Points]\n",
    "\n",
    "Calculate the objective function for all local moves (see definition of local moves above) and always choose the best among all local moves. If there are no local moves that improve the objective, then you have reached a local optimum. "
   ]
  },
  {
   "cell_type": "code",
   "execution_count": 4,
   "metadata": {},
   "outputs": [],
   "source": [
    "def steepest(size,starting_board):\n",
    "    if conflicts(starting_board)==0:\n",
    "        return starting_board\n",
    "    min_conflicts = conflicts(starting_board)\n",
    "    board = list(starting_board)\n",
    "    finished = False\n",
    "\n",
    "    while not finished:\n",
    "        improved = False\n",
    "        best = (0,0)\n",
    "        for i in range(size):\n",
    "            for j in range(size):\n",
    "                temp = list(board)\n",
    "                temp[i] = j\n",
    "                temp_conflicts = conflicts(temp)\n",
    "                if temp_conflicts < min_conflicts:\n",
    "                    min_conflicts = temp_conflicts\n",
    "                    best = (i,j)\n",
    "                    improved = True\n",
    "        if not improved:\n",
    "            return board\n",
    "        board[best[0]] = best[1]"
   ]
  },
  {
   "cell_type": "markdown",
   "metadata": {},
   "source": [
    "## Task 2: Stochastic Hill Climbing 1 [10 Points]\n",
    "\n",
    "Chooses randomly from among all uphill moves till you have reached a local optimum."
   ]
  },
  {
   "cell_type": "code",
   "execution_count": 5,
   "metadata": {},
   "outputs": [],
   "source": [
    "import random\n",
    "def stochastic1(size,starting_board):\n",
    "    if conflicts(starting_board)==0:\n",
    "        return starting_board\n",
    "    board = list(starting_board)\n",
    "    finished = False\n",
    "\n",
    "    while not finished:\n",
    "        min_conflicts = conflicts(board)\n",
    "        board_list = []\n",
    "        for i in range(size):\n",
    "            for j in range(size):\n",
    "                temp = list(board)\n",
    "                temp[i] = j\n",
    "                temp_conflicts = conflicts(temp)\n",
    "                if temp_conflicts < min_conflicts:\n",
    "                    board_list.append(temp)\n",
    "        if len(board_list)==0:\n",
    "            return board\n",
    "        board = random.choice(board_list)"
   ]
  },
  {
   "cell_type": "markdown",
   "metadata": {},
   "source": [
    "## Task 3: Stochastic Hill Climbing 2 [20 Points]\n",
    "\n",
    "A popular version of stochastic hill climbing generates only a single random local neighbor at a time and accept it if it has a better objective function value than the current state. This is very efficient if each state has many possible successor states. This method is called \"First-choice hill climbing\" in the textbook.\n",
    "\n",
    "__Notes:__ \n",
    "\n",
    "* Detecting local optima is tricky! You can, for example, stop if you were not able to improve the objective function during the last $x$ tries."
   ]
  },
  {
   "cell_type": "code",
   "execution_count": 6,
   "metadata": {},
   "outputs": [],
   "source": [
    "def stochastic2(size,starting_board, limit = 30):\n",
    "    if conflicts(starting_board)==0:\n",
    "        return starting_board\n",
    "    min_conflicts = conflicts(starting_board)\n",
    "    board = list(starting_board)\n",
    "    finished = False\n",
    "    since_improved = 0\n",
    "\n",
    "    while not finished:\n",
    "        temp = list(board)\n",
    "        temp[random.randrange(size)] = random.randrange(size)\n",
    "        temp_conflicts = conflicts(temp)\n",
    "        if temp_conflicts < min_conflicts:\n",
    "            board = temp\n",
    "            since_improved = 0\n",
    "            min_conflicts = conflicts(board)\n",
    "        else:\n",
    "            since_improved+=1\n",
    "        if since_improved > limit:\n",
    "            finished = True\n",
    "    return board\n",
    "\n",
    "\n"
   ]
  },
  {
   "cell_type": "markdown",
   "metadata": {},
   "source": [
    "## Task 4: Hill Climbing Search with Random Restarts [10 Points]\n",
    "\n",
    "Hill climbing will often end up in local optima. Restart the each of the three hill climbing algorithm up to 100 times with a random board to find a better (hopefully optimal) solution. Note that restart just means to run the algoithm several times starting with a new random board."
   ]
  },
  {
   "cell_type": "code",
   "execution_count": 7,
   "metadata": {},
   "outputs": [],
   "source": [
    "size = 4\n",
    "best_steepest = random_board(size)\n",
    "best_stochastic1 = random_board(size)\n",
    "best_stochastic2 = random_board(size)\n",
    "for i in range(100):\n",
    "    temp = steepest(size,random_board(size))\n",
    "    if conflicts(temp) < conflicts(best_steepest):\n",
    "        best_steepest = temp\n",
    "    temp = stochastic1(size,random_board(size))\n",
    "    if conflicts(temp) < conflicts(best_stochastic1):\n",
    "        best_stochastic1 = temp\n",
    "    temp = stochastic2(size,random_board(size))\n",
    "    if conflicts(temp) < conflicts(best_stochastic2):\n",
    "        best_stochastic2 = temp"
   ]
  },
  {
   "cell_type": "markdown",
   "metadata": {},
   "source": [
    "## Task 5: Compare Performance [20 Points]\n",
    "\n",
    "Use runtime and objective function value to compare the algorithms. \n",
    "\n",
    "* Use boards of different sizes to explore how the different algorithms perform. Make sure that you run the algorithms for each board size several times (at least 10 times) with different starting boards and report averages.\n",
    "\n",
    "* How do the algorithms scale with problem size? Use tables and charts.\n",
    "\n",
    "* What is the largest board each algorithm can solve in a reasonable amount time?\n",
    "\n",
    "See [Profiling Python Code](../Python_Code_Examples/profiling_code.ipynb) for help about how to measure runtime in Python."
   ]
  },
  {
   "cell_type": "markdown",
   "source": [
    "For the code below, I made it run on 10 different boards from sizes 4x4 to 9x9. In the beginning, task 3 has trouble keeping up with the other algorithms, but when the size of the boards increases, the third algorithm quickly outpaces other algorithms with little loss in efficiency."
   ],
   "metadata": {
    "collapsed": false
   }
  },
  {
   "cell_type": "code",
   "execution_count": null,
   "metadata": {
    "pycharm": {
     "is_executing": true
    }
   },
   "outputs": [
    {
     "name": "stdout",
     "output_type": "stream",
     "text": [
      "Board with 2 conflicts.\n"
     ]
    },
    {
     "name": "stderr",
     "output_type": "stream",
     "text": [
      "C:\\Users\\Kellen Long\\anaconda3\\envs\\CS7320-AI\\lib\\site-packages\\IPython\\core\\pylabtools.py:151: UserWarning: Glyph 9819 (\\N{BLACK CHESS QUEEN}) missing from current font.\n",
      "  fig.canvas.print_figure(bytes_io, **kw)\n"
     ]
    },
    {
     "data": {
      "text/plain": "<Figure size 432x288 with 1 Axes>",
      "image/png": "[encoded data removed]"
     },
     "metadata": {},
     "output_type": "display_data"
    },
    {
     "name": "stdout",
     "output_type": "stream",
     "text": [
      "time for task 1: 0.0ms and average of 1 conflicts\n",
      "time for task 2: 0.0ms and average of 1 conflicts\n",
      "time for task 3: 4.688ms and average of 1 conflicts\n"
     ]
    },
    {
     "data": {
      "text/plain": "<Figure size 432x288 with 1 Axes>",
      "image/png": "[encoded data removed]"
     },
     "metadata": {},
     "output_type": "display_data"
    },
    {
     "name": "stdout",
     "output_type": "stream",
     "text": [
      "\n",
      "\n",
      "\n",
      "\n",
      "Board with 4 conflicts.\n"
     ]
    },
    {
     "name": "stderr",
     "output_type": "stream",
     "text": [
      "C:\\Users\\Kellen Long\\anaconda3\\envs\\CS7320-AI\\lib\\site-packages\\IPython\\core\\pylabtools.py:151: UserWarning: Glyph 9819 (\\N{BLACK CHESS QUEEN}) missing from current font.\n",
      "  fig.canvas.print_figure(bytes_io, **kw)\n"
     ]
    },
    {
     "data": {
      "text/plain": "<Figure size 432x288 with 1 Axes>",
      "image/png": "[encoded data removed]"
     },
     "metadata": {},
     "output_type": "display_data"
    },
    {
     "name": "stdout",
     "output_type": "stream",
     "text": [
      "time for task 1: 3.125ms and average of 1 conflicts\n",
      "time for task 2: 0.202ms and average of 1.1 conflicts\n",
      "time for task 3: 1.402ms and average of 0.8 conflicts\n"
     ]
    },
    {
     "data": {
      "text/plain": "<Figure size 432x288 with 1 Axes>",
      "image/png": "[encoded data removed]"
     },
     "metadata": {},
     "output_type": "display_data"
    },
    {
     "name": "stdout",
     "output_type": "stream",
     "text": [
      "\n",
      "\n",
      "\n",
      "\n",
      "Board with 2 conflicts.\n"
     ]
    },
    {
     "name": "stderr",
     "output_type": "stream",
     "text": [
      "C:\\Users\\Kellen Long\\anaconda3\\envs\\CS7320-AI\\lib\\site-packages\\IPython\\core\\pylabtools.py:151: UserWarning: Glyph 9819 (\\N{BLACK CHESS QUEEN}) missing from current font.\n",
      "  fig.canvas.print_figure(bytes_io, **kw)\n"
     ]
    },
    {
     "data": {
      "text/plain": "<Figure size 432x288 with 1 Axes>",
      "image/png": "[encoded data removed]"
     },
     "metadata": {},
     "output_type": "display_data"
    },
    {
     "name": "stdout",
     "output_type": "stream",
     "text": [
      "time for task 1: 0.0ms and average of 0 conflicts\n",
      "time for task 2: 1.057ms and average of 0 conflicts\n",
      "time for task 3: 2.115ms and average of 0 conflicts\n"
     ]
    },
    {
     "data": {
      "text/plain": "<Figure size 432x288 with 1 Axes>",
      "image/png": "[encoded data removed]"
     },
     "metadata": {},
     "output_type": "display_data"
    },
    {
     "name": "stdout",
     "output_type": "stream",
     "text": [
      "\n",
      "\n",
      "\n",
      "\n",
      "Board with 4 conflicts.\n"
     ]
    },
    {
     "name": "stderr",
     "output_type": "stream",
     "text": [
      "C:\\Users\\Kellen Long\\anaconda3\\envs\\CS7320-AI\\lib\\site-packages\\IPython\\core\\pylabtools.py:151: UserWarning: Glyph 9819 (\\N{BLACK CHESS QUEEN}) missing from current font.\n",
      "  fig.canvas.print_figure(bytes_io, **kw)\n"
     ]
    },
    {
     "data": {
      "text/plain": "<Figure size 432x288 with 1 Axes>",
      "image/png": "[encoded data removed]"
     },
     "metadata": {},
     "output_type": "display_data"
    },
    {
     "name": "stdout",
     "output_type": "stream",
     "text": [
      "time for task 1: 1.562ms and average of 1 conflicts\n",
      "time for task 2: 1.562ms and average of 0.9 conflicts\n",
      "time for task 3: 0.0ms and average of 1 conflicts\n"
     ]
    },
    {
     "data": {
      "text/plain": "<Figure size 432x288 with 1 Axes>",
      "image/png": "[encoded data removed]"
     },
     "metadata": {},
     "output_type": "display_data"
    },
    {
     "name": "stdout",
     "output_type": "stream",
     "text": [
      "\n",
      "\n",
      "\n",
      "\n",
      "Board with 4 conflicts.\n"
     ]
    },
    {
     "name": "stderr",
     "output_type": "stream",
     "text": [
      "C:\\Users\\Kellen Long\\anaconda3\\envs\\CS7320-AI\\lib\\site-packages\\IPython\\core\\pylabtools.py:151: UserWarning: Glyph 9819 (\\N{BLACK CHESS QUEEN}) missing from current font.\n",
      "  fig.canvas.print_figure(bytes_io, **kw)\n"
     ]
    },
    {
     "data": {
      "text/plain": "<Figure size 432x288 with 1 Axes>",
      "image/png": "[encoded data removed]"
     },
     "metadata": {},
     "output_type": "display_data"
    },
    {
     "name": "stdout",
     "output_type": "stream",
     "text": [
      "time for task 1: 0.0ms and average of 1 conflicts\n",
      "time for task 2: 0.0ms and average of 0.7 conflicts\n",
      "time for task 3: 4.684ms and average of 0.3 conflicts\n"
     ]
    },
    {
     "data": {
      "text/plain": "<Figure size 432x288 with 1 Axes>",
      "image/png": "[encoded data removed]"
     },
     "metadata": {},
     "output_type": "display_data"
    },
    {
     "name": "stdout",
     "output_type": "stream",
     "text": [
      "\n",
      "\n",
      "\n",
      "\n",
      "Board with 3 conflicts.\n"
     ]
    },
    {
     "name": "stderr",
     "output_type": "stream",
     "text": [
      "C:\\Users\\Kellen Long\\anaconda3\\envs\\CS7320-AI\\lib\\site-packages\\IPython\\core\\pylabtools.py:151: UserWarning: Glyph 9819 (\\N{BLACK CHESS QUEEN}) missing from current font.\n",
      "  fig.canvas.print_figure(bytes_io, **kw)\n"
     ]
    },
    {
     "data": {
      "text/plain": "<Figure size 432x288 with 1 Axes>",
      "image/png": "[encoded data removed]"
     },
     "metadata": {},
     "output_type": "display_data"
    },
    {
     "name": "stdout",
     "output_type": "stream",
     "text": [
      "time for task 1: 0.0ms and average of 0 conflicts\n",
      "time for task 2: 3.125ms and average of 0.4 conflicts\n",
      "time for task 3: 0.0ms and average of 0.4 conflicts\n"
     ]
    },
    {
     "data": {
      "text/plain": "<Figure size 432x288 with 1 Axes>",
      "image/png": "[encoded data removed]"
     },
     "metadata": {},
     "output_type": "display_data"
    },
    {
     "name": "stdout",
     "output_type": "stream",
     "text": [
      "\n",
      "\n",
      "\n",
      "\n",
      "Board with 4 conflicts.\n"
     ]
    },
    {
     "name": "stderr",
     "output_type": "stream",
     "text": [
      "C:\\Users\\Kellen Long\\anaconda3\\envs\\CS7320-AI\\lib\\site-packages\\IPython\\core\\pylabtools.py:151: UserWarning: Glyph 9819 (\\N{BLACK CHESS QUEEN}) missing from current font.\n",
      "  fig.canvas.print_figure(bytes_io, **kw)\n"
     ]
    },
    {
     "data": {
      "text/plain": "<Figure size 432x288 with 1 Axes>",
      "image/png": "[encoded data removed]"
     },
     "metadata": {},
     "output_type": "display_data"
    },
    {
     "name": "stdout",
     "output_type": "stream",
     "text": [
      "time for task 1: 0.552ms and average of 0 conflicts\n",
      "time for task 2: 0.0ms and average of 0.2 conflicts\n",
      "time for task 3: 2.615ms and average of 0.6 conflicts\n"
     ]
    },
    {
     "data": {
      "text/plain": "<Figure size 432x288 with 1 Axes>",
      "image/png": "[encoded data removed]"
     },
     "metadata": {},
     "output_type": "display_data"
    },
    {
     "name": "stdout",
     "output_type": "stream",
     "text": [
      "\n",
      "\n",
      "\n",
      "\n",
      "Board with 4 conflicts.\n"
     ]
    },
    {
     "name": "stderr",
     "output_type": "stream",
     "text": [
      "C:\\Users\\Kellen Long\\anaconda3\\envs\\CS7320-AI\\lib\\site-packages\\IPython\\core\\pylabtools.py:151: UserWarning: Glyph 9819 (\\N{BLACK CHESS QUEEN}) missing from current font.\n",
      "  fig.canvas.print_figure(bytes_io, **kw)\n"
     ]
    },
    {
     "data": {
      "text/plain": "<Figure size 432x288 with 1 Axes>",
      "image/png": "[encoded data removed]"
     },
     "metadata": {},
     "output_type": "display_data"
    },
    {
     "name": "stdout",
     "output_type": "stream",
     "text": [
      "time for task 1: 0.0ms and average of 1 conflicts\n",
      "time for task 2: 0.0ms and average of 0.5 conflicts\n",
      "time for task 3: 4.69ms and average of 0.7 conflicts\n"
     ]
    },
    {
     "data": {
      "text/plain": "<Figure size 432x288 with 1 Axes>",
      "image/png": "[encoded data removed]"
     },
     "metadata": {},
     "output_type": "display_data"
    },
    {
     "name": "stdout",
     "output_type": "stream",
     "text": [
      "\n",
      "\n",
      "\n",
      "\n",
      "Board with 3 conflicts.\n"
     ]
    },
    {
     "name": "stderr",
     "output_type": "stream",
     "text": [
      "C:\\Users\\Kellen Long\\anaconda3\\envs\\CS7320-AI\\lib\\site-packages\\IPython\\core\\pylabtools.py:151: UserWarning: Glyph 9819 (\\N{BLACK CHESS QUEEN}) missing from current font.\n",
      "  fig.canvas.print_figure(bytes_io, **kw)\n"
     ]
    },
    {
     "data": {
      "text/plain": "<Figure size 432x288 with 1 Axes>",
      "image/png": "[encoded data removed]"
     },
     "metadata": {},
     "output_type": "display_data"
    },
    {
     "name": "stdout",
     "output_type": "stream",
     "text": [
      "time for task 1: 0.0ms and average of 0 conflicts\n",
      "time for task 2: 4.688ms and average of 0.7 conflicts\n",
      "time for task 3: 0.0ms and average of 0.7 conflicts\n"
     ]
    },
    {
     "data": {
      "text/plain": "<Figure size 432x288 with 1 Axes>",
      "image/png": "[encoded data removed]"
     },
     "metadata": {},
     "output_type": "display_data"
    },
    {
     "name": "stdout",
     "output_type": "stream",
     "text": [
      "\n",
      "\n",
      "\n",
      "\n",
      "Board with 4 conflicts.\n"
     ]
    },
    {
     "name": "stderr",
     "output_type": "stream",
     "text": [
      "C:\\Users\\Kellen Long\\anaconda3\\envs\\CS7320-AI\\lib\\site-packages\\IPython\\core\\pylabtools.py:151: UserWarning: Glyph 9819 (\\N{BLACK CHESS QUEEN}) missing from current font.\n",
      "  fig.canvas.print_figure(bytes_io, **kw)\n"
     ]
    },
    {
     "data": {
      "text/plain": "<Figure size 432x288 with 1 Axes>",
      "image/png": "[encoded data removed]"
     },
     "metadata": {},
     "output_type": "display_data"
    },
    {
     "name": "stdout",
     "output_type": "stream",
     "text": [
      "time for task 1: 1.563ms and average of 1 conflicts\n",
      "time for task 2: 1.562ms and average of 1.4 conflicts\n",
      "time for task 3: 1.565ms and average of 1.3 conflicts\n"
     ]
    },
    {
     "data": {
      "text/plain": "<Figure size 432x288 with 1 Axes>",
      "image/png": "[encoded data removed]"
     },
     "metadata": {},
     "output_type": "display_data"
    },
    {
     "name": "stdout",
     "output_type": "stream",
     "text": [
      "\n",
      "\n",
      "\n",
      "\n",
      "Board with 4 conflicts.\n"
     ]
    },
    {
     "name": "stderr",
     "output_type": "stream",
     "text": [
      "C:\\Users\\Kellen Long\\anaconda3\\envs\\CS7320-AI\\lib\\site-packages\\IPython\\core\\pylabtools.py:151: UserWarning: Glyph 9819 (\\N{BLACK CHESS QUEEN}) missing from current font.\n",
      "  fig.canvas.print_figure(bytes_io, **kw)\n"
     ]
    },
    {
     "data": {
      "text/plain": "<Figure size 432x288 with 1 Axes>",
      "image/png": "[encoded data removed]"
     },
     "metadata": {},
     "output_type": "display_data"
    },
    {
     "name": "stdout",
     "output_type": "stream",
     "text": [
      "time for task 1: 1.562ms and average of 0 conflicts\n",
      "time for task 2: 3.011ms and average of 0.2 conflicts\n",
      "time for task 3: 4.845ms and average of 0.2 conflicts\n"
     ]
    },
    {
     "data": {
      "text/plain": "<Figure size 432x288 with 1 Axes>",
      "image/png": "[encoded data removed]"
     },
     "metadata": {},
     "output_type": "display_data"
    },
    {
     "name": "stdout",
     "output_type": "stream",
     "text": [
      "\n",
      "\n",
      "\n",
      "\n",
      "Board with 7 conflicts.\n"
     ]
    },
    {
     "name": "stderr",
     "output_type": "stream",
     "text": [
      "C:\\Users\\Kellen Long\\anaconda3\\envs\\CS7320-AI\\lib\\site-packages\\IPython\\core\\pylabtools.py:151: UserWarning: Glyph 9819 (\\N{BLACK CHESS QUEEN}) missing from current font.\n",
      "  fig.canvas.print_figure(bytes_io, **kw)\n"
     ]
    },
    {
     "data": {
      "text/plain": "<Figure size 432x288 with 1 Axes>",
      "image/png": "[encoded data removed]"
     },
     "metadata": {},
     "output_type": "display_data"
    },
    {
     "name": "stdout",
     "output_type": "stream",
     "text": [
      "time for task 1: 3.127ms and average of 1 conflicts\n",
      "time for task 2: 0.0ms and average of 0.5 conflicts\n",
      "time for task 3: 4.729ms and average of 0.7 conflicts\n"
     ]
    },
    {
     "data": {
      "text/plain": "<Figure size 432x288 with 1 Axes>",
      "image/png": "[encoded data removed]"
     },
     "metadata": {},
     "output_type": "display_data"
    },
    {
     "name": "stdout",
     "output_type": "stream",
     "text": [
      "\n",
      "\n",
      "\n",
      "\n",
      "Board with 2 conflicts.\n"
     ]
    },
    {
     "name": "stderr",
     "output_type": "stream",
     "text": [
      "C:\\Users\\Kellen Long\\anaconda3\\envs\\CS7320-AI\\lib\\site-packages\\IPython\\core\\pylabtools.py:151: UserWarning: Glyph 9819 (\\N{BLACK CHESS QUEEN}) missing from current font.\n",
      "  fig.canvas.print_figure(bytes_io, **kw)\n"
     ]
    },
    {
     "data": {
      "text/plain": "<Figure size 432x288 with 1 Axes>",
      "image/png": "[encoded data removed]"
     },
     "metadata": {},
     "output_type": "display_data"
    },
    {
     "name": "stdout",
     "output_type": "stream",
     "text": [
      "time for task 1: 0.0ms and average of 0 conflicts\n",
      "time for task 2: 4.733ms and average of 0.9 conflicts\n",
      "time for task 3: 0.0ms and average of 0.3 conflicts\n"
     ]
    },
    {
     "data": {
      "text/plain": "<Figure size 432x288 with 1 Axes>",
      "image/png": "[encoded data removed]"
     },
     "metadata": {},
     "output_type": "display_data"
    },
    {
     "name": "stdout",
     "output_type": "stream",
     "text": [
      "\n",
      "\n",
      "\n",
      "\n",
      "Board with 8 conflicts.\n"
     ]
    },
    {
     "name": "stderr",
     "output_type": "stream",
     "text": [
      "C:\\Users\\Kellen Long\\anaconda3\\envs\\CS7320-AI\\lib\\site-packages\\IPython\\core\\pylabtools.py:151: UserWarning: Glyph 9819 (\\N{BLACK CHESS QUEEN}) missing from current font.\n",
      "  fig.canvas.print_figure(bytes_io, **kw)\n"
     ]
    },
    {
     "data": {
      "text/plain": "<Figure size 432x288 with 1 Axes>",
      "image/png": "[encoded data removed]"
     },
     "metadata": {},
     "output_type": "display_data"
    },
    {
     "name": "stdout",
     "output_type": "stream",
     "text": [
      "time for task 1: 3.127ms and average of 0 conflicts\n",
      "time for task 2: 1.153ms and average of 0.4 conflicts\n",
      "time for task 3: 3.58ms and average of 1.1 conflicts\n"
     ]
    },
    {
     "data": {
      "text/plain": "<Figure size 432x288 with 1 Axes>",
      "image/png": "[encoded data removed]"
     },
     "metadata": {},
     "output_type": "display_data"
    },
    {
     "name": "stdout",
     "output_type": "stream",
     "text": [
      "\n",
      "\n",
      "\n",
      "\n",
      "Board with 4 conflicts.\n"
     ]
    },
    {
     "name": "stderr",
     "output_type": "stream",
     "text": [
      "C:\\Users\\Kellen Long\\anaconda3\\envs\\CS7320-AI\\lib\\site-packages\\IPython\\core\\pylabtools.py:151: UserWarning: Glyph 9819 (\\N{BLACK CHESS QUEEN}) missing from current font.\n",
      "  fig.canvas.print_figure(bytes_io, **kw)\n"
     ]
    },
    {
     "data": {
      "text/plain": "<Figure size 432x288 with 1 Axes>",
      "image/png": "[encoded data removed]"
     },
     "metadata": {},
     "output_type": "display_data"
    },
    {
     "name": "stdout",
     "output_type": "stream",
     "text": [
      "time for task 1: 1.562ms and average of 1 conflicts\n",
      "time for task 2: 1.565ms and average of 0.7 conflicts\n",
      "time for task 3: 4.688ms and average of 0.7 conflicts\n"
     ]
    },
    {
     "data": {
      "text/plain": "<Figure size 432x288 with 1 Axes>",
      "image/png": "[encoded data removed]"
     },
     "metadata": {},
     "output_type": "display_data"
    },
    {
     "name": "stdout",
     "output_type": "stream",
     "text": [
      "\n",
      "\n",
      "\n",
      "\n",
      "Board with 2 conflicts.\n"
     ]
    },
    {
     "name": "stderr",
     "output_type": "stream",
     "text": [
      "C:\\Users\\Kellen Long\\anaconda3\\envs\\CS7320-AI\\lib\\site-packages\\IPython\\core\\pylabtools.py:151: UserWarning: Glyph 9819 (\\N{BLACK CHESS QUEEN}) missing from current font.\n",
      "  fig.canvas.print_figure(bytes_io, **kw)\n"
     ]
    },
    {
     "data": {
      "text/plain": "<Figure size 432x288 with 1 Axes>",
      "image/png": "[encoded data removed]"
     },
     "metadata": {},
     "output_type": "display_data"
    },
    {
     "name": "stdout",
     "output_type": "stream",
     "text": [
      "time for task 1: 0.0ms and average of 0 conflicts\n",
      "time for task 2: 6.292ms and average of 0 conflicts\n",
      "time for task 3: 0.0ms and average of 0 conflicts\n"
     ]
    },
    {
     "data": {
      "text/plain": "<Figure size 432x288 with 1 Axes>",
      "image/png": "[encoded data removed]"
     },
     "metadata": {},
     "output_type": "display_data"
    },
    {
     "name": "stdout",
     "output_type": "stream",
     "text": [
      "\n",
      "\n",
      "\n",
      "\n",
      "Board with 3 conflicts.\n"
     ]
    },
    {
     "name": "stderr",
     "output_type": "stream",
     "text": [
      "C:\\Users\\Kellen Long\\anaconda3\\envs\\CS7320-AI\\lib\\site-packages\\IPython\\core\\pylabtools.py:151: UserWarning: Glyph 9819 (\\N{BLACK CHESS QUEEN}) missing from current font.\n",
      "  fig.canvas.print_figure(bytes_io, **kw)\n"
     ]
    },
    {
     "data": {
      "text/plain": "<Figure size 432x288 with 1 Axes>",
      "image/png": "[encoded data removed]"
     },
     "metadata": {},
     "output_type": "display_data"
    },
    {
     "name": "stdout",
     "output_type": "stream",
     "text": [
      "time for task 1: 1.302ms and average of 0 conflicts\n",
      "time for task 2: 4.69ms and average of 1.4 conflicts\n",
      "time for task 3: 0.302ms and average of 1.4 conflicts\n"
     ]
    },
    {
     "data": {
      "text/plain": "<Figure size 432x288 with 1 Axes>",
      "image/png": "[encoded data removed]"
     },
     "metadata": {},
     "output_type": "display_data"
    },
    {
     "name": "stdout",
     "output_type": "stream",
     "text": [
      "\n",
      "\n",
      "\n",
      "\n",
      "Board with 4 conflicts.\n"
     ]
    },
    {
     "name": "stderr",
     "output_type": "stream",
     "text": [
      "C:\\Users\\Kellen Long\\anaconda3\\envs\\CS7320-AI\\lib\\site-packages\\IPython\\core\\pylabtools.py:151: UserWarning: Glyph 9819 (\\N{BLACK CHESS QUEEN}) missing from current font.\n",
      "  fig.canvas.print_figure(bytes_io, **kw)\n"
     ]
    },
    {
     "data": {
      "text/plain": "<Figure size 432x288 with 1 Axes>",
      "image/png": "[encoded data removed]"
     },
     "metadata": {},
     "output_type": "display_data"
    },
    {
     "name": "stdout",
     "output_type": "stream",
     "text": [
      "time for task 1: 1.562ms and average of 0 conflicts\n",
      "time for task 2: 2.015ms and average of 0.4 conflicts\n",
      "time for task 3: 4.279ms and average of 0 conflicts\n"
     ]
    },
    {
     "data": {
      "text/plain": "<Figure size 432x288 with 1 Axes>",
      "image/png": "[encoded data removed]"
     },
     "metadata": {},
     "output_type": "display_data"
    },
    {
     "name": "stdout",
     "output_type": "stream",
     "text": [
      "\n",
      "\n",
      "\n",
      "\n",
      "Board with 6 conflicts.\n"
     ]
    },
    {
     "name": "stderr",
     "output_type": "stream",
     "text": [
      "C:\\Users\\Kellen Long\\anaconda3\\envs\\CS7320-AI\\lib\\site-packages\\IPython\\core\\pylabtools.py:151: UserWarning: Glyph 9819 (\\N{BLACK CHESS QUEEN}) missing from current font.\n",
      "  fig.canvas.print_figure(bytes_io, **kw)\n"
     ]
    },
    {
     "data": {
      "text/plain": "<Figure size 432x288 with 1 Axes>",
      "image/png": "[encoded data removed]"
     },
     "metadata": {},
     "output_type": "display_data"
    },
    {
     "name": "stdout",
     "output_type": "stream",
     "text": [
      "time for task 1: 1.562ms and average of 0 conflicts\n",
      "time for task 2: 3.678ms and average of 0.5 conflicts\n",
      "time for task 3: 1.052ms and average of 0.2 conflicts\n"
     ]
    },
    {
     "data": {
      "text/plain": "<Figure size 432x288 with 1 Axes>",
      "image/png": "[encoded data removed]"
     },
     "metadata": {},
     "output_type": "display_data"
    },
    {
     "name": "stdout",
     "output_type": "stream",
     "text": [
      "\n",
      "\n",
      "\n",
      "\n",
      "Board with 3 conflicts.\n"
     ]
    },
    {
     "name": "stderr",
     "output_type": "stream",
     "text": [
      "C:\\Users\\Kellen Long\\anaconda3\\envs\\CS7320-AI\\lib\\site-packages\\IPython\\core\\pylabtools.py:151: UserWarning: Glyph 9819 (\\N{BLACK CHESS QUEEN}) missing from current font.\n",
      "  fig.canvas.print_figure(bytes_io, **kw)\n"
     ]
    },
    {
     "data": {
      "text/plain": "<Figure size 432x288 with 1 Axes>",
      "image/png": "[encoded data removed]"
     },
     "metadata": {},
     "output_type": "display_data"
    },
    {
     "name": "stdout",
     "output_type": "stream",
     "text": [
      "time for task 1: 1.562ms and average of 0 conflicts\n",
      "time for task 2: 2.817ms and average of 0.8 conflicts\n",
      "time for task 3: 1.915ms and average of 0.8 conflicts\n"
     ]
    },
    {
     "data": {
      "text/plain": "<Figure size 432x288 with 1 Axes>",
      "image/png": "[encoded data removed]"
     },
     "metadata": {},
     "output_type": "display_data"
    },
    {
     "name": "stdout",
     "output_type": "stream",
     "text": [
      "\n",
      "\n",
      "\n",
      "\n",
      "Board with 9 conflicts.\n"
     ]
    },
    {
     "name": "stderr",
     "output_type": "stream",
     "text": [
      "C:\\Users\\Kellen Long\\anaconda3\\envs\\CS7320-AI\\lib\\site-packages\\IPython\\core\\pylabtools.py:151: UserWarning: Glyph 9819 (\\N{BLACK CHESS QUEEN}) missing from current font.\n",
      "  fig.canvas.print_figure(bytes_io, **kw)\n"
     ]
    },
    {
     "data": {
      "text/plain": "<Figure size 432x288 with 1 Axes>",
      "image/png": "[encoded data removed]"
     },
     "metadata": {},
     "output_type": "display_data"
    },
    {
     "name": "stdout",
     "output_type": "stream",
     "text": [
      "time for task 1: 1.562ms and average of 1 conflicts\n",
      "time for task 2: 7.86ms and average of 1.2 conflicts\n",
      "time for task 3: 1.562ms and average of 1 conflicts\n"
     ]
    },
    {
     "data": {
      "text/plain": "<Figure size 432x288 with 1 Axes>",
      "image/png": "[encoded data removed]"
     },
     "metadata": {},
     "output_type": "display_data"
    },
    {
     "name": "stdout",
     "output_type": "stream",
     "text": [
      "\n",
      "\n",
      "\n",
      "\n",
      "Board with 6 conflicts.\n"
     ]
    },
    {
     "name": "stderr",
     "output_type": "stream",
     "text": [
      "C:\\Users\\Kellen Long\\anaconda3\\envs\\CS7320-AI\\lib\\site-packages\\IPython\\core\\pylabtools.py:151: UserWarning: Glyph 9819 (\\N{BLACK CHESS QUEEN}) missing from current font.\n",
      "  fig.canvas.print_figure(bytes_io, **kw)\n"
     ]
    },
    {
     "data": {
      "text/plain": "<Figure size 432x288 with 1 Axes>",
      "image/png": "[encoded data removed]"
     },
     "metadata": {},
     "output_type": "display_data"
    },
    {
     "name": "stdout",
     "output_type": "stream",
     "text": [
      "time for task 1: 3.129ms and average of 1 conflicts\n",
      "time for task 2: 1.563ms and average of 1.2 conflicts\n",
      "time for task 3: 1.562ms and average of 1 conflicts\n"
     ]
    },
    {
     "data": {
      "text/plain": "<Figure size 432x288 with 1 Axes>",
      "image/png": "[encoded data removed]"
     },
     "metadata": {},
     "output_type": "display_data"
    },
    {
     "name": "stdout",
     "output_type": "stream",
     "text": [
      "\n",
      "\n",
      "\n",
      "\n",
      "Board with 7 conflicts.\n"
     ]
    },
    {
     "name": "stderr",
     "output_type": "stream",
     "text": [
      "C:\\Users\\Kellen Long\\anaconda3\\envs\\CS7320-AI\\lib\\site-packages\\IPython\\core\\pylabtools.py:151: UserWarning: Glyph 9819 (\\N{BLACK CHESS QUEEN}) missing from current font.\n",
      "  fig.canvas.print_figure(bytes_io, **kw)\n"
     ]
    },
    {
     "data": {
      "text/plain": "<Figure size 432x288 with 1 Axes>",
      "image/png": "[encoded data removed]"
     },
     "metadata": {},
     "output_type": "display_data"
    },
    {
     "name": "stdout",
     "output_type": "stream",
     "text": [
      "time for task 1: 4.131ms and average of 2 conflicts\n",
      "time for task 2: 3.124ms and average of 1 conflicts\n",
      "time for task 3: 3.77ms and average of 1.1 conflicts\n"
     ]
    },
    {
     "data": {
      "text/plain": "<Figure size 432x288 with 1 Axes>",
      "image/png": "[encoded data removed]"
     },
     "metadata": {},
     "output_type": "display_data"
    },
    {
     "name": "stdout",
     "output_type": "stream",
     "text": [
      "\n",
      "\n",
      "\n",
      "\n",
      "Board with 5 conflicts.\n"
     ]
    },
    {
     "name": "stderr",
     "output_type": "stream",
     "text": [
      "C:\\Users\\Kellen Long\\anaconda3\\envs\\CS7320-AI\\lib\\site-packages\\IPython\\core\\pylabtools.py:151: UserWarning: Glyph 9819 (\\N{BLACK CHESS QUEEN}) missing from current font.\n",
      "  fig.canvas.print_figure(bytes_io, **kw)\n"
     ]
    },
    {
     "data": {
      "text/plain": "<Figure size 432x288 with 1 Axes>",
      "image/png": "[encoded data removed]"
     },
     "metadata": {},
     "output_type": "display_data"
    },
    {
     "name": "stdout",
     "output_type": "stream",
     "text": [
      "time for task 1: 0.0ms and average of 1 conflicts\n",
      "time for task 2: 3.165ms and average of 1 conflicts\n",
      "time for task 3: 4.691ms and average of 1.2 conflicts\n"
     ]
    },
    {
     "data": {
      "text/plain": "<Figure size 432x288 with 1 Axes>",
      "image/png": "[encoded data removed]"
     },
     "metadata": {},
     "output_type": "display_data"
    },
    {
     "name": "stdout",
     "output_type": "stream",
     "text": [
      "\n",
      "\n",
      "\n",
      "\n",
      "Board with 5 conflicts.\n"
     ]
    },
    {
     "name": "stderr",
     "output_type": "stream",
     "text": [
      "C:\\Users\\Kellen Long\\anaconda3\\envs\\CS7320-AI\\lib\\site-packages\\IPython\\core\\pylabtools.py:151: UserWarning: Glyph 9819 (\\N{BLACK CHESS QUEEN}) missing from current font.\n",
      "  fig.canvas.print_figure(bytes_io, **kw)\n"
     ]
    },
    {
     "data": {
      "text/plain": "<Figure size 432x288 with 1 Axes>",
      "image/png": "[encoded data removed]"
     },
     "metadata": {},
     "output_type": "display_data"
    },
    {
     "name": "stdout",
     "output_type": "stream",
     "text": [
      "time for task 1: 1.566ms and average of 2 conflicts\n",
      "time for task 2: 1.559ms and average of 1.5 conflicts\n",
      "time for task 3: 1.566ms and average of 1.8 conflicts\n"
     ]
    },
    {
     "data": {
      "text/plain": "<Figure size 432x288 with 1 Axes>",
      "image/png": "[encoded data removed]"
     },
     "metadata": {},
     "output_type": "display_data"
    },
    {
     "name": "stdout",
     "output_type": "stream",
     "text": [
      "\n",
      "\n",
      "\n",
      "\n",
      "Board with 4 conflicts.\n"
     ]
    },
    {
     "name": "stderr",
     "output_type": "stream",
     "text": [
      "C:\\Users\\Kellen Long\\anaconda3\\envs\\CS7320-AI\\lib\\site-packages\\IPython\\core\\pylabtools.py:151: UserWarning: Glyph 9819 (\\N{BLACK CHESS QUEEN}) missing from current font.\n",
      "  fig.canvas.print_figure(bytes_io, **kw)\n"
     ]
    },
    {
     "data": {
      "text/plain": "<Figure size 432x288 with 1 Axes>",
      "image/png": "[encoded data removed]"
     },
     "metadata": {},
     "output_type": "display_data"
    },
    {
     "name": "stdout",
     "output_type": "stream",
     "text": [
      "time for task 1: 1.563ms and average of 1 conflicts\n",
      "time for task 2: 3.926ms and average of 1.5 conflicts\n",
      "time for task 3: 3.931ms and average of 1.4 conflicts\n"
     ]
    },
    {
     "data": {
      "text/plain": "<Figure size 432x288 with 1 Axes>",
      "image/png": "[encoded data removed]"
     },
     "metadata": {},
     "output_type": "display_data"
    },
    {
     "name": "stdout",
     "output_type": "stream",
     "text": [
      "\n",
      "\n",
      "\n",
      "\n",
      "Board with 7 conflicts.\n"
     ]
    },
    {
     "name": "stderr",
     "output_type": "stream",
     "text": [
      "C:\\Users\\Kellen Long\\anaconda3\\envs\\CS7320-AI\\lib\\site-packages\\IPython\\core\\pylabtools.py:151: UserWarning: Glyph 9819 (\\N{BLACK CHESS QUEEN}) missing from current font.\n",
      "  fig.canvas.print_figure(bytes_io, **kw)\n"
     ]
    },
    {
     "data": {
      "text/plain": "<Figure size 432x288 with 1 Axes>",
      "image/png": "[encoded data removed]"
     },
     "metadata": {},
     "output_type": "display_data"
    },
    {
     "name": "stdout",
     "output_type": "stream",
     "text": [
      "time for task 1: 2.614ms and average of 2 conflicts\n",
      "time for task 2: 1.559ms and average of 1.5 conflicts\n",
      "time for task 3: 6.911ms and average of 1 conflicts\n"
     ]
    },
    {
     "data": {
      "text/plain": "<Figure size 432x288 with 1 Axes>",
      "image/png": "[encoded data removed]"
     },
     "metadata": {},
     "output_type": "display_data"
    },
    {
     "name": "stdout",
     "output_type": "stream",
     "text": [
      "\n",
      "\n",
      "\n",
      "\n",
      "Board with 7 conflicts.\n"
     ]
    },
    {
     "name": "stderr",
     "output_type": "stream",
     "text": [
      "C:\\Users\\Kellen Long\\anaconda3\\envs\\CS7320-AI\\lib\\site-packages\\IPython\\core\\pylabtools.py:151: UserWarning: Glyph 9819 (\\N{BLACK CHESS QUEEN}) missing from current font.\n",
      "  fig.canvas.print_figure(bytes_io, **kw)\n"
     ]
    },
    {
     "data": {
      "text/plain": "<Figure size 432x288 with 1 Axes>",
      "image/png": "[encoded data removed]"
     },
     "metadata": {},
     "output_type": "display_data"
    },
    {
     "name": "stdout",
     "output_type": "stream",
     "text": [
      "time for task 1: 1.252ms and average of 1 conflicts\n",
      "time for task 2: 1.565ms and average of 1 conflicts\n",
      "time for task 3: 4.688ms and average of 1.6 conflicts\n"
     ]
    },
    {
     "data": {
      "text/plain": "<Figure size 432x288 with 1 Axes>",
      "image/png": "[encoded data removed]"
     },
     "metadata": {},
     "output_type": "display_data"
    },
    {
     "name": "stdout",
     "output_type": "stream",
     "text": [
      "\n",
      "\n",
      "\n",
      "\n",
      "Board with 8 conflicts.\n"
     ]
    },
    {
     "name": "stderr",
     "output_type": "stream",
     "text": [
      "C:\\Users\\Kellen Long\\anaconda3\\envs\\CS7320-AI\\lib\\site-packages\\IPython\\core\\pylabtools.py:151: UserWarning: Glyph 9819 (\\N{BLACK CHESS QUEEN}) missing from current font.\n",
      "  fig.canvas.print_figure(bytes_io, **kw)\n"
     ]
    },
    {
     "data": {
      "text/plain": "<Figure size 432x288 with 1 Axes>",
      "image/png": "[encoded data removed]"
     },
     "metadata": {},
     "output_type": "display_data"
    },
    {
     "name": "stdout",
     "output_type": "stream",
     "text": [
      "time for task 1: 1.914ms and average of 1 conflicts\n",
      "time for task 2: 9.378ms and average of 1 conflicts\n",
      "time for task 3: 2.818ms and average of 0.7 conflicts\n"
     ]
    },
    {
     "data": {
      "text/plain": "<Figure size 432x288 with 1 Axes>",
      "image/png": "[encoded data removed]"
     },
     "metadata": {},
     "output_type": "display_data"
    },
    {
     "name": "stdout",
     "output_type": "stream",
     "text": [
      "\n",
      "\n",
      "\n",
      "\n",
      "Board with 4 conflicts.\n"
     ]
    },
    {
     "name": "stderr",
     "output_type": "stream",
     "text": [
      "C:\\Users\\Kellen Long\\anaconda3\\envs\\CS7320-AI\\lib\\site-packages\\IPython\\core\\pylabtools.py:151: UserWarning: Glyph 9819 (\\N{BLACK CHESS QUEEN}) missing from current font.\n",
      "  fig.canvas.print_figure(bytes_io, **kw)\n"
     ]
    },
    {
     "data": {
      "text/plain": "<Figure size 432x288 with 1 Axes>",
      "image/png": "[encoded data removed]"
     },
     "metadata": {},
     "output_type": "display_data"
    },
    {
     "name": "stdout",
     "output_type": "stream",
     "text": [
      "time for task 1: 1.56ms and average of 1 conflicts\n",
      "time for task 2: 4.177ms and average of 0.9 conflicts\n",
      "time for task 3: 1.564ms and average of 1 conflicts\n"
     ]
    },
    {
     "data": {
      "text/plain": "<Figure size 432x288 with 1 Axes>",
      "image/png": "[encoded data removed]"
     },
     "metadata": {},
     "output_type": "display_data"
    },
    {
     "name": "stdout",
     "output_type": "stream",
     "text": [
      "\n",
      "\n",
      "\n",
      "\n",
      "Board with 5 conflicts.\n"
     ]
    },
    {
     "name": "stderr",
     "output_type": "stream",
     "text": [
      "C:\\Users\\Kellen Long\\anaconda3\\envs\\CS7320-AI\\lib\\site-packages\\IPython\\core\\pylabtools.py:151: UserWarning: Glyph 9819 (\\N{BLACK CHESS QUEEN}) missing from current font.\n",
      "  fig.canvas.print_figure(bytes_io, **kw)\n"
     ]
    },
    {
     "data": {
      "text/plain": "<Figure size 432x288 with 1 Axes>",
      "image/png": "[encoded data removed]"
     },
     "metadata": {},
     "output_type": "display_data"
    },
    {
     "name": "stdout",
     "output_type": "stream",
     "text": [
      "time for task 1: 6.095ms and average of 1 conflicts\n",
      "time for task 2: 0.202ms and average of 1 conflicts\n",
      "time for task 3: 7.804ms and average of 0.6 conflicts\n"
     ]
    },
    {
     "data": {
      "text/plain": "<Figure size 432x288 with 1 Axes>",
      "image/png": "[encoded data removed]"
     },
     "metadata": {},
     "output_type": "display_data"
    },
    {
     "name": "stdout",
     "output_type": "stream",
     "text": [
      "\n",
      "\n",
      "\n",
      "\n",
      "Board with 9 conflicts.\n"
     ]
    },
    {
     "name": "stderr",
     "output_type": "stream",
     "text": [
      "C:\\Users\\Kellen Long\\anaconda3\\envs\\CS7320-AI\\lib\\site-packages\\IPython\\core\\pylabtools.py:151: UserWarning: Glyph 9819 (\\N{BLACK CHESS QUEEN}) missing from current font.\n",
      "  fig.canvas.print_figure(bytes_io, **kw)\n"
     ]
    },
    {
     "data": {
      "text/plain": "<Figure size 432x288 with 1 Axes>",
      "image/png": "[encoded data removed]"
     },
     "metadata": {},
     "output_type": "display_data"
    },
    {
     "name": "stdout",
     "output_type": "stream",
     "text": [
      "time for task 1: 10.94ms and average of 1 conflicts\n",
      "time for task 2: 4.428ms and average of 1.4 conflicts\n",
      "time for task 3: 0.302ms and average of 1.4 conflicts\n"
     ]
    },
    {
     "data": {
      "text/plain": "<Figure size 432x288 with 1 Axes>",
      "image/png": "[encoded data removed]"
     },
     "metadata": {},
     "output_type": "display_data"
    },
    {
     "name": "stdout",
     "output_type": "stream",
     "text": [
      "\n",
      "\n",
      "\n",
      "\n",
      "Board with 10 conflicts.\n"
     ]
    },
    {
     "name": "stderr",
     "output_type": "stream",
     "text": [
      "C:\\Users\\Kellen Long\\anaconda3\\envs\\CS7320-AI\\lib\\site-packages\\IPython\\core\\pylabtools.py:151: UserWarning: Glyph 9819 (\\N{BLACK CHESS QUEEN}) missing from current font.\n",
      "  fig.canvas.print_figure(bytes_io, **kw)\n"
     ]
    },
    {
     "data": {
      "text/plain": "<Figure size 432x288 with 1 Axes>",
      "image/png": "[encoded data removed]"
     },
     "metadata": {},
     "output_type": "display_data"
    },
    {
     "name": "stdout",
     "output_type": "stream",
     "text": [
      "time for task 1: 7.403ms and average of 0 conflicts\n",
      "time for task 2: 10.636ms and average of 1 conflicts\n",
      "time for task 3: 5.531ms and average of 1.1 conflicts\n"
     ]
    },
    {
     "data": {
      "text/plain": "<Figure size 432x288 with 1 Axes>",
      "image/png": "[encoded data removed]"
     },
     "metadata": {},
     "output_type": "display_data"
    },
    {
     "name": "stdout",
     "output_type": "stream",
     "text": [
      "\n",
      "\n",
      "\n",
      "\n",
      "Board with 5 conflicts.\n"
     ]
    },
    {
     "name": "stderr",
     "output_type": "stream",
     "text": [
      "C:\\Users\\Kellen Long\\anaconda3\\envs\\CS7320-AI\\lib\\site-packages\\IPython\\core\\pylabtools.py:151: UserWarning: Glyph 9819 (\\N{BLACK CHESS QUEEN}) missing from current font.\n",
      "  fig.canvas.print_figure(bytes_io, **kw)\n"
     ]
    },
    {
     "data": {
      "text/plain": "<Figure size 432x288 with 1 Axes>",
      "image/png": "[encoded data removed]"
     },
     "metadata": {},
     "output_type": "display_data"
    },
    {
     "name": "stdout",
     "output_type": "stream",
     "text": [
      "time for task 1: 9.375ms and average of 0 conflicts\n",
      "time for task 2: 5.895ms and average of 0.6 conflicts\n",
      "time for task 3: 3.57ms and average of 0.8 conflicts\n"
     ]
    },
    {
     "data": {
      "text/plain": "<Figure size 432x288 with 1 Axes>",
      "image/png": "[encoded data removed]"
     },
     "metadata": {},
     "output_type": "display_data"
    },
    {
     "name": "stdout",
     "output_type": "stream",
     "text": [
      "\n",
      "\n",
      "\n",
      "\n",
      "Board with 4 conflicts.\n"
     ]
    },
    {
     "name": "stderr",
     "output_type": "stream",
     "text": [
      "C:\\Users\\Kellen Long\\anaconda3\\envs\\CS7320-AI\\lib\\site-packages\\IPython\\core\\pylabtools.py:151: UserWarning: Glyph 9819 (\\N{BLACK CHESS QUEEN}) missing from current font.\n",
      "  fig.canvas.print_figure(bytes_io, **kw)\n"
     ]
    },
    {
     "data": {
      "text/plain": "<Figure size 432x288 with 1 Axes>",
      "image/png": "[encoded data removed]"
     },
     "metadata": {},
     "output_type": "display_data"
    },
    {
     "name": "stdout",
     "output_type": "stream",
     "text": [
      "time for task 1: 4.895ms and average of 3 conflicts\n",
      "time for task 2: 1.56ms and average of 1.4 conflicts\n",
      "time for task 3: 4.573ms and average of 1.7 conflicts\n"
     ]
    },
    {
     "data": {
      "text/plain": "<Figure size 432x288 with 1 Axes>",
      "image/png": "[encoded data removed]"
     },
     "metadata": {},
     "output_type": "display_data"
    },
    {
     "name": "stdout",
     "output_type": "stream",
     "text": [
      "\n",
      "\n",
      "\n",
      "\n",
      "Board with 6 conflicts.\n"
     ]
    },
    {
     "name": "stderr",
     "output_type": "stream",
     "text": [
      "C:\\Users\\Kellen Long\\anaconda3\\envs\\CS7320-AI\\lib\\site-packages\\IPython\\core\\pylabtools.py:151: UserWarning: Glyph 9819 (\\N{BLACK CHESS QUEEN}) missing from current font.\n",
      "  fig.canvas.print_figure(bytes_io, **kw)\n"
     ]
    },
    {
     "data": {
      "text/plain": "<Figure size 432x288 with 1 Axes>",
      "image/png": "[encoded data removed]"
     },
     "metadata": {},
     "output_type": "display_data"
    },
    {
     "name": "stdout",
     "output_type": "stream",
     "text": [
      "time for task 1: 7.058ms and average of 1 conflicts\n",
      "time for task 2: 3.128ms and average of 1.8 conflicts\n",
      "time for task 3: 7.093ms and average of 1.5 conflicts\n"
     ]
    },
    {
     "data": {
      "text/plain": "<Figure size 432x288 with 1 Axes>",
      "image/png": "[encoded data removed]"
     },
     "metadata": {},
     "output_type": "display_data"
    },
    {
     "name": "stdout",
     "output_type": "stream",
     "text": [
      "\n",
      "\n",
      "\n",
      "\n",
      "Board with 8 conflicts.\n"
     ]
    },
    {
     "name": "stderr",
     "output_type": "stream",
     "text": [
      "C:\\Users\\Kellen Long\\anaconda3\\envs\\CS7320-AI\\lib\\site-packages\\IPython\\core\\pylabtools.py:151: UserWarning: Glyph 9819 (\\N{BLACK CHESS QUEEN}) missing from current font.\n",
      "  fig.canvas.print_figure(bytes_io, **kw)\n"
     ]
    },
    {
     "data": {
      "text/plain": "<Figure size 432x288 with 1 Axes>",
      "image/png": "[encoded data removed]"
     },
     "metadata": {},
     "output_type": "display_data"
    },
    {
     "name": "stdout",
     "output_type": "stream",
     "text": [
      "time for task 1: 7.558ms and average of 1 conflicts\n",
      "time for task 2: 6.25ms and average of 1.4 conflicts\n",
      "time for task 3: 9.719ms and average of 1.1 conflicts\n"
     ]
    },
    {
     "data": {
      "text/plain": "<Figure size 432x288 with 1 Axes>",
      "image/png": "[encoded data removed]"
     },
     "metadata": {},
     "output_type": "display_data"
    },
    {
     "name": "stdout",
     "output_type": "stream",
     "text": [
      "\n",
      "\n",
      "\n",
      "\n",
      "Board with 4 conflicts.\n"
     ]
    },
    {
     "name": "stderr",
     "output_type": "stream",
     "text": [
      "C:\\Users\\Kellen Long\\anaconda3\\envs\\CS7320-AI\\lib\\site-packages\\IPython\\core\\pylabtools.py:151: UserWarning: Glyph 9819 (\\N{BLACK CHESS QUEEN}) missing from current font.\n",
      "  fig.canvas.print_figure(bytes_io, **kw)\n"
     ]
    },
    {
     "data": {
      "text/plain": "<Figure size 432x288 with 1 Axes>",
      "image/png": "[encoded data removed]"
     },
     "metadata": {},
     "output_type": "display_data"
    },
    {
     "name": "stdout",
     "output_type": "stream",
     "text": [
      "time for task 1: 9.32ms and average of 0 conflicts\n",
      "time for task 2: 4.689ms and average of 1.1 conflicts\n",
      "time for task 3: 6.043ms and average of 1.3 conflicts\n"
     ]
    },
    {
     "data": {
      "text/plain": "<Figure size 432x288 with 1 Axes>",
      "image/png": "[encoded data removed]"
     },
     "metadata": {},
     "output_type": "display_data"
    },
    {
     "name": "stdout",
     "output_type": "stream",
     "text": [
      "\n",
      "\n",
      "\n",
      "\n",
      "Board with 8 conflicts.\n"
     ]
    },
    {
     "name": "stderr",
     "output_type": "stream",
     "text": [
      "C:\\Users\\Kellen Long\\anaconda3\\envs\\CS7320-AI\\lib\\site-packages\\IPython\\core\\pylabtools.py:151: UserWarning: Glyph 9819 (\\N{BLACK CHESS QUEEN}) missing from current font.\n",
      "  fig.canvas.print_figure(bytes_io, **kw)\n"
     ]
    },
    {
     "data": {
      "text/plain": "<Figure size 432x288 with 1 Axes>",
      "image/png": "[encoded data removed]"
     },
     "metadata": {},
     "output_type": "display_data"
    },
    {
     "name": "stdout",
     "output_type": "stream",
     "text": [
      "time for task 1: 7.31ms and average of 2 conflicts\n",
      "time for task 2: 11.184ms and average of 0.9 conflicts\n",
      "time for task 3: 1.56ms and average of 1.4 conflicts\n"
     ]
    },
    {
     "data": {
      "text/plain": "<Figure size 432x288 with 1 Axes>",
      "image/png": "[encoded data removed]"
     },
     "metadata": {},
     "output_type": "display_data"
    },
    {
     "name": "stdout",
     "output_type": "stream",
     "text": [
      "\n",
      "\n",
      "\n",
      "\n",
      "Board with 5 conflicts.\n"
     ]
    },
    {
     "name": "stderr",
     "output_type": "stream",
     "text": [
      "C:\\Users\\Kellen Long\\anaconda3\\envs\\CS7320-AI\\lib\\site-packages\\IPython\\core\\pylabtools.py:151: UserWarning: Glyph 9819 (\\N{BLACK CHESS QUEEN}) missing from current font.\n",
      "  fig.canvas.print_figure(bytes_io, **kw)\n"
     ]
    },
    {
     "data": {
      "text/plain": "<Figure size 432x288 with 1 Axes>",
      "image/png": "[encoded data removed]"
     },
     "metadata": {},
     "output_type": "display_data"
    },
    {
     "name": "stdout",
     "output_type": "stream",
     "text": [
      "time for task 1: 6.255ms and average of 2 conflicts\n",
      "time for task 2: 6.334ms and average of 1.5 conflicts\n",
      "time for task 3: 7.812ms and average of 1.2 conflicts\n"
     ]
    },
    {
     "data": {
      "text/plain": "<Figure size 432x288 with 1 Axes>",
      "image/png": "[encoded data removed]"
     },
     "metadata": {},
     "output_type": "display_data"
    },
    {
     "name": "stdout",
     "output_type": "stream",
     "text": [
      "\n",
      "\n",
      "\n",
      "\n",
      "Board with 9 conflicts.\n"
     ]
    },
    {
     "name": "stderr",
     "output_type": "stream",
     "text": [
      "C:\\Users\\Kellen Long\\anaconda3\\envs\\CS7320-AI\\lib\\site-packages\\IPython\\core\\pylabtools.py:151: UserWarning: Glyph 9819 (\\N{BLACK CHESS QUEEN}) missing from current font.\n",
      "  fig.canvas.print_figure(bytes_io, **kw)\n"
     ]
    },
    {
     "data": {
      "text/plain": "<Figure size 432x288 with 1 Axes>",
      "image/png": "[encoded data removed]"
     },
     "metadata": {},
     "output_type": "display_data"
    },
    {
     "name": "stdout",
     "output_type": "stream",
     "text": [
      "time for task 1: 12.396ms and average of 1 conflicts\n",
      "time for task 2: 17.835ms and average of 0.9 conflicts\n",
      "time for task 3: 7.404ms and average of 1.5 conflicts\n"
     ]
    },
    {
     "data": {
      "text/plain": "<Figure size 432x288 with 1 Axes>",
      "image/png": "[encoded data removed]"
     },
     "metadata": {},
     "output_type": "display_data"
    },
    {
     "name": "stdout",
     "output_type": "stream",
     "text": [
      "\n",
      "\n",
      "\n",
      "\n",
      "Board with 8 conflicts.\n"
     ]
    },
    {
     "name": "stderr",
     "output_type": "stream",
     "text": [
      "C:\\Users\\Kellen Long\\anaconda3\\envs\\CS7320-AI\\lib\\site-packages\\IPython\\core\\pylabtools.py:151: UserWarning: Glyph 9819 (\\N{BLACK CHESS QUEEN}) missing from current font.\n",
      "  fig.canvas.print_figure(bytes_io, **kw)\n"
     ]
    },
    {
     "data": {
      "text/plain": "<Figure size 432x288 with 1 Axes>",
      "image/png": "[encoded data removed]"
     },
     "metadata": {},
     "output_type": "display_data"
    },
    {
     "name": "stdout",
     "output_type": "stream",
     "text": [
      "time for task 1: 10.032ms and average of 1 conflicts\n",
      "time for task 2: 16.022ms and average of 1.2 conflicts\n",
      "time for task 3: 8.455ms and average of 1.4 conflicts\n"
     ]
    },
    {
     "data": {
      "text/plain": "<Figure size 432x288 with 1 Axes>",
      "image/png": "[encoded data removed]"
     },
     "metadata": {},
     "output_type": "display_data"
    },
    {
     "name": "stdout",
     "output_type": "stream",
     "text": [
      "\n",
      "\n",
      "\n",
      "\n",
      "Board with 7 conflicts.\n"
     ]
    },
    {
     "name": "stderr",
     "output_type": "stream",
     "text": [
      "C:\\Users\\Kellen Long\\anaconda3\\envs\\CS7320-AI\\lib\\site-packages\\IPython\\core\\pylabtools.py:151: UserWarning: Glyph 9819 (\\N{BLACK CHESS QUEEN}) missing from current font.\n",
      "  fig.canvas.print_figure(bytes_io, **kw)\n"
     ]
    },
    {
     "data": {
      "text/plain": "<Figure size 432x288 with 1 Axes>",
      "image/png": "[encoded data removed]"
     },
     "metadata": {},
     "output_type": "display_data"
    },
    {
     "name": "stdout",
     "output_type": "stream",
     "text": [
      "time for task 1: 10.684ms and average of 0 conflicts\n",
      "time for task 2: 11.893ms and average of 1.3 conflicts\n",
      "time for task 3: 2.262ms and average of 1.4 conflicts\n"
     ]
    },
    {
     "data": {
      "text/plain": "<Figure size 432x288 with 1 Axes>",
      "image/png": "[encoded data removed]"
     },
     "metadata": {},
     "output_type": "display_data"
    },
    {
     "name": "stdout",
     "output_type": "stream",
     "text": [
      "\n",
      "\n",
      "\n",
      "\n",
      "Board with 9 conflicts.\n"
     ]
    },
    {
     "name": "stderr",
     "output_type": "stream",
     "text": [
      "C:\\Users\\Kellen Long\\anaconda3\\envs\\CS7320-AI\\lib\\site-packages\\IPython\\core\\pylabtools.py:151: UserWarning: Glyph 9819 (\\N{BLACK CHESS QUEEN}) missing from current font.\n",
      "  fig.canvas.print_figure(bytes_io, **kw)\n"
     ]
    },
    {
     "data": {
      "text/plain": "<Figure size 432x288 with 1 Axes>",
      "image/png": "[encoded data removed]"
     },
     "metadata": {},
     "output_type": "display_data"
    },
    {
     "name": "stdout",
     "output_type": "stream",
     "text": [
      "time for task 1: 6.703ms and average of 0 conflicts\n",
      "time for task 2: 10.624ms and average of 1.1 conflicts\n",
      "time for task 3: 6.251ms and average of 1.4 conflicts\n"
     ]
    },
    {
     "data": {
      "text/plain": "<Figure size 432x288 with 1 Axes>",
      "image/png": "[encoded data removed]"
     },
     "metadata": {},
     "output_type": "display_data"
    },
    {
     "name": "stdout",
     "output_type": "stream",
     "text": [
      "\n",
      "\n",
      "\n",
      "\n",
      "Board with 11 conflicts.\n"
     ]
    },
    {
     "name": "stderr",
     "output_type": "stream",
     "text": [
      "C:\\Users\\Kellen Long\\anaconda3\\envs\\CS7320-AI\\lib\\site-packages\\IPython\\core\\pylabtools.py:151: UserWarning: Glyph 9819 (\\N{BLACK CHESS QUEEN}) missing from current font.\n",
      "  fig.canvas.print_figure(bytes_io, **kw)\n"
     ]
    },
    {
     "data": {
      "text/plain": "<Figure size 432x288 with 1 Axes>",
      "image/png": "[encoded data removed]"
     },
     "metadata": {},
     "output_type": "display_data"
    },
    {
     "name": "stdout",
     "output_type": "stream",
     "text": [
      "time for task 1: 6.903ms and average of 3 conflicts\n",
      "time for task 2: 10.323ms and average of 1.9 conflicts\n",
      "time for task 3: 5.04ms and average of 2.2 conflicts\n"
     ]
    },
    {
     "data": {
      "text/plain": "<Figure size 432x288 with 1 Axes>",
      "image/png": "[encoded data removed]"
     },
     "metadata": {},
     "output_type": "display_data"
    },
    {
     "name": "stdout",
     "output_type": "stream",
     "text": [
      "\n",
      "\n",
      "\n",
      "\n",
      "Board with 7 conflicts.\n"
     ]
    },
    {
     "name": "stderr",
     "output_type": "stream",
     "text": [
      "C:\\Users\\Kellen Long\\anaconda3\\envs\\CS7320-AI\\lib\\site-packages\\IPython\\core\\pylabtools.py:151: UserWarning: Glyph 9819 (\\N{BLACK CHESS QUEEN}) missing from current font.\n",
      "  fig.canvas.print_figure(bytes_io, **kw)\n"
     ]
    },
    {
     "data": {
      "text/plain": "<Figure size 432x288 with 1 Axes>",
      "image/png": "[encoded data removed]"
     },
     "metadata": {},
     "output_type": "display_data"
    },
    {
     "name": "stdout",
     "output_type": "stream",
     "text": [
      "time for task 1: 5.796ms and average of 1 conflicts\n",
      "time for task 2: 11.091ms and average of 1.1 conflicts\n",
      "time for task 3: 5.232ms and average of 1.2 conflicts\n"
     ]
    },
    {
     "data": {
      "text/plain": "<Figure size 432x288 with 1 Axes>",
      "image/png": "[encoded data removed]"
     },
     "metadata": {},
     "output_type": "display_data"
    },
    {
     "name": "stdout",
     "output_type": "stream",
     "text": [
      "\n",
      "\n",
      "\n",
      "\n",
      "Board with 9 conflicts.\n"
     ]
    },
    {
     "name": "stderr",
     "output_type": "stream",
     "text": [
      "C:\\Users\\Kellen Long\\anaconda3\\envs\\CS7320-AI\\lib\\site-packages\\IPython\\core\\pylabtools.py:151: UserWarning: Glyph 9819 (\\N{BLACK CHESS QUEEN}) missing from current font.\n",
      "  fig.canvas.print_figure(bytes_io, **kw)\n"
     ]
    },
    {
     "data": {
      "text/plain": "<Figure size 432x288 with 1 Axes>",
      "image/png": "[encoded data removed]"
     },
     "metadata": {},
     "output_type": "display_data"
    }
   ],
   "source": [
    "import time\n",
    "from statistics import mean\n",
    "import matplotlib.pyplot as plt\n",
    "import seaborn as sns\n",
    "sns.set(style=\"whitegrid\")\n",
    "\n",
    "board_list = []\n",
    "steepest_time_list = []\n",
    "stochastic1_time_list = []\n",
    "stochastic2_time_list = []\n",
    "steepest_conflicts_list = []\n",
    "stochastic1_conflicts_list = []\n",
    "stochastic2_conflicts_list = []\n",
    "\n",
    "for i in range(5):\n",
    "    for j in range(10):\n",
    "        board_list.append(random_board(i+4))\n",
    "\n",
    "for board in board_list:\n",
    "    steepest_time_list = []\n",
    "    stochastic1_time_list = []\n",
    "    stochastic2_time_list = []\n",
    "    steepest_conflicts_list = []\n",
    "    stochastic1_conflicts_list = []\n",
    "    stochastic2_conflicts_list = []\n",
    "    temp1 = []\n",
    "    temp2 = []\n",
    "    temp3 = []\n",
    "    show_board(board)\n",
    "    size = len(board)\n",
    "    for i in range(10):\n",
    "        t0 = time.time()\n",
    "        temp1 = steepest(size,board)\n",
    "        t1 = time.time()\n",
    "        temp2 = stochastic1(size,board)\n",
    "        t2 = time.time()\n",
    "        temp3 = stochastic2(size,board,limit=100)\n",
    "        t3 = time.time()\n",
    "        steepest_time_list.append(round((t1-t0) * 1e3, 3))\n",
    "        stochastic1_time_list.append(round((t2-t1) * 1e3, 3))\n",
    "        stochastic2_time_list.append(round((t3-t2) * 1e3, 3))\n",
    "        steepest_conflicts_list.append(conflicts(temp1))\n",
    "        stochastic1_conflicts_list.append(conflicts(temp2))\n",
    "        stochastic2_conflicts_list.append(conflicts(temp3))\n",
    "    print(f\"time for task 1: {round(mean(steepest_time_list),3)}ms and average of {mean(steepest_conflicts_list)} conflicts\")\n",
    "    print(f\"time for task 2: {round(mean(stochastic1_time_list),3)}ms and average of {mean(stochastic1_conflicts_list)} conflicts\")\n",
    "    print(f\"time for task 3: {round(mean(stochastic2_time_list),3)}ms and average of {mean(stochastic2_conflicts_list)} conflicts\")\n",
    "    plt.xlabel(\"Task\")\n",
    "    plt.bar(\"Task 1\",round(mean(steepest_time_list),3))\n",
    "    plt.bar(\"Task 2\",round(mean(stochastic1_time_list),3))\n",
    "    plt.bar(\"Task 3\",round(mean(stochastic2_time_list),3))\n",
    "    plt.show()\n",
    "    print(\"\\n\\n\\n\")\n",
    "\n"
   ]
  },
  {
   "cell_type": "markdown",
   "metadata": {},
   "source": [
    "## Graduate student advanced task: Simulated Annealing [10 Points]\n",
    "\n",
    "__Undergraduate students:__ This is a bonus task you can attempt if you like [+5 Bonus Points].\n",
    "\n",
    "Simulated annealing is a form of stochastic hill climbing that avoid local optima by also allowing downhill moves with a probability proportional to a temperature. The temperature is decreased in every iteration following an annealing schedule. You have to experiment with the annealing schedule (Google to find guidance on this).\n",
    "\n",
    "\n",
    "1. Implement simulated annealing for the n-Queens problem.\n",
    "2. Compare the performance with the previous algorithms. \n",
    "2. Discuss your choice of annealing schedule."
   ]
  },
  {
   "cell_type": "code",
   "execution_count": 9,
   "metadata": {
    "tags": []
   },
   "outputs": [],
   "source": [
    "import math\n",
    "def simulated_annealing(size,starting_board):\n",
    "    if conflicts(starting_board)==0:\n",
    "        return starting_board\n",
    "    min_conflicts = conflicts(starting_board)\n",
    "    board = list(starting_board)\n",
    "    finished = False\n",
    "    i = 0\n",
    "\n",
    "    while not finished:\n",
    "        min_conflicts = conflicts(board)\n",
    "        board_list = []\n",
    "        for i in range(size):\n",
    "            for j in range(size):\n",
    "                temp = list(board)\n",
    "                temp[i] = j\n",
    "                temp_conflicts = conflicts(temp)\n",
    "                if temp_conflicts < min_conflicts:\n",
    "                    board_list.append(temp)\n",
    "                else:\n",
    "                    if random.randrange(1) < math.exp((i/10)*((temp_conflicts-min_conflicts)/min_conflicts)):\n",
    "                        board_list.append(temp)\n",
    "        if len(board_list)==0:\n",
    "            return board\n",
    "        board = random.choice(board_list)"
   ]
  },
  {
   "cell_type": "markdown",
   "source": [
    "For my simulated annealing schedule, I used\n",
    "## $e^{\\frac{iterations}{100}*\\frac{current \\,\\, conflicts - past \\,\\, conflicts}{past \\,\\, conflicts}}$\n",
    "This ran a slower than the third algorithm, almost on par with the first two, but did slightly better performance-wise. This is because it still generates all possible moves, but it lets the algorithm explore more possibilities and therefore it might get out of a local maximum."
   ],
   "metadata": {
    "collapsed": false
   }
  },
  {
   "cell_type": "markdown",
   "metadata": {},
   "source": [
    "## More things to do\n",
    "\n",
    "Implement a Genetic Algorithm for the n-Queens problem."
   ]
  },
  {
   "cell_type": "code",
   "execution_count": 10,
   "metadata": {
    "tags": []
   },
   "outputs": [],
   "source": [
    "# Code and description go here"
   ]
  }
 ],
 "metadata": {
  "kernelspec": {
   "display_name": "Python 3 (ipykernel)",
   "language": "python",
   "name": "python3"
  },
  "language_info": {
   "codemirror_mode": {
    "name": "ipython",
    "version": 3
   },
   "file_extension": ".py",
   "mimetype": "text/x-python",
   "name": "python",
   "nbconvert_exporter": "python",
   "pygments_lexer": "ipython3",
   "version": "3.9.5"
  },
  "toc-autonumbering": false,
  "toc-showcode": false,
  "toc-showmarkdowntxt": false,
  "toc-showtags": false
 },
 "nbformat": 4,
 "nbformat_minor": 4
}