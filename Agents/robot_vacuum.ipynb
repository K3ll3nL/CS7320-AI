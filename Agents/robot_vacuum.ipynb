{
 "cells": [
  {
   "cell_type": "markdown",
   "metadata": {},
   "source": [
    "# Intelligent Agents: Reflex-Based Agents for the Vacuum-cleaner World\n",
    "\n",
    "\n",
    "## Instructions\n",
    "\n",
    "Total Points: Undergrads 100 / Graduate students 110\n",
    "\n",
    "Complete this notebook. Use the provided notebook cells and insert additional code and markdown cells as needed. Submit the completely rendered notebook as a PDF file. \n",
    "\n",
    "## Introduction\n",
    "\n",
    "In this assignment you will implement a simulator environment for an automatic vacuum cleaner robot, a set of different reflex-based agent programs, and perform a comparison study for cleaning a single room. Focus on the __cleaning phase__ which starts when the robot is activated and ends when the last dirty square in the room has been cleaned. Someone else will take care of the agent program needed to navigate back to the charging station after the room is clean.\n",
    "\n",
    "## PEAS description of the cleaning phase\n",
    "\n",
    "__Performance Measure:__ Each action costs 1 energy unit. The performance is measured as the sum of the energy units used to clean the whole room.\n",
    "\n",
    "__Environment:__ A room with $n \\times n$ squares where $n = 5$. Dirt is randomly placed on each square with probability $p = 0.2$. For simplicity, you can assume that the agent knows the size and the layout of the room (i.e., it knows $n$). To start, the agent is placed on a random square.\n",
    "\n",
    "__Actuators:__ The agent can clean the current square (action `suck`) or move to an adjacent square by going `north`, `east`, `south`, or `west`.\n",
    "\n",
    "__Sensors:__ Four bumper sensors, one for north, east, south, and west; a dirt sensor reporting dirt in the current square.  \n",
    "\n",
    "\n",
    "## The agent program for a simple randomized agent\n",
    "\n",
    "The agent program is a function that gets sensor information (the current percepts) as the arguments. The arguments are:\n",
    "\n",
    "* A dictionary with boolean entries for the for bumper sensors `north`, `east`, `west`, `south`. E.g., if the agent is on the north-west corner, `bumpers` will be `{\"north\" : True, \"east\" : False, \"south\" : False, \"west\" : True}`.\n",
    "* The dirt sensor produces a boolean.\n",
    "\n",
    "The agent returns the chosen action as a string.\n",
    "\n",
    "Here is an example implementation for the agent program of a simple randomized agent:  "
   ]
  },
  {
   "cell_type": "code",
   "execution_count": 2,
   "metadata": {},
   "outputs": [],
   "source": [
    "import numpy as np\n",
    "\n",
    "actions = [\"north\", \"east\", \"west\", \"south\", \"suck\"]\n",
    "\n",
    "def simple_randomized_agent(bumpers, dirty):\n",
    "    return np.random.choice(actions)"
   ]
  },
  {
   "cell_type": "code",
   "execution_count": 3,
   "metadata": {},
   "outputs": [
    {
     "data": {
      "text/plain": "'north'"
     },
     "execution_count": 3,
     "metadata": {},
     "output_type": "execute_result"
    }
   ],
   "source": [
    "# define percepts (current location is NW corner and it is dirty)\n",
    "bumpers = {\"north\" : True, \"east\" : False, \"south\" : False, \"west\" : True}\n",
    "dirty = True\n",
    "\n",
    "# call agent program function with percepts and it returns an action\n",
    "simple_randomized_agent(bumpers, dirty)"
   ]
  },
  {
   "cell_type": "markdown",
   "metadata": {},
   "source": [
    "__Note:__ This is not a rational intelligent agent. It ignores its sensors and may bump into a wall repeatedly or not clean a dirty square. You will be asked to implement rational agents below."
   ]
  },
  {
   "cell_type": "markdown",
   "metadata": {},
   "source": [
    "## Simple environment example\n",
    "\n",
    "We implement a simple simulation environment that supplies the agent with its percepts.\n",
    "The simple environment is infinite in size (bumpers are always `False`) and every square is always dirty, even if the agent cleans it. The environment function returns a performance measure which is here the number of cleaned squares (since the room is infinite and all squares are constantly dirty, the agent can never clean the whole room as required in the PEAS description above). The energy budget of the agent is specified as `max_steps`. "
   ]
  },
  {
   "cell_type": "code",
   "execution_count": 4,
   "metadata": {},
   "outputs": [],
   "source": [
    "def simple_environment(agent, max_steps, verbose = True):\n",
    "    num_cleaned = 0\n",
    "    \n",
    "    for i in range(max_steps):\n",
    "        dirty = True\n",
    "        bumpers = {\"north\" : False, \"south\" : False, \"west\" : False, \"east\" : False}\n",
    "\n",
    "        action = agent(bumpers, dirty)\n",
    "        if (verbose): print(\"step\", i , \"- action:\", action) \n",
    "        \n",
    "        if (action == \"suck\"): \n",
    "            num_cleaned = num_cleaned + 1\n",
    "        \n",
    "    return num_cleaned\n",
    "        \n"
   ]
  },
  {
   "cell_type": "markdown",
   "metadata": {},
   "source": [
    "Do one simulation run with a simple randomized agent that has enough energy for 20 steps."
   ]
  },
  {
   "cell_type": "code",
   "execution_count": 5,
   "metadata": {},
   "outputs": [
    {
     "name": "stdout",
     "output_type": "stream",
     "text": [
      "step 0 - action: east\n",
      "step 1 - action: east\n",
      "step 2 - action: east\n",
      "step 3 - action: west\n",
      "step 4 - action: north\n",
      "step 5 - action: west\n",
      "step 6 - action: south\n",
      "step 7 - action: west\n",
      "step 8 - action: west\n",
      "step 9 - action: west\n",
      "step 10 - action: west\n",
      "step 11 - action: west\n",
      "step 12 - action: suck\n",
      "step 13 - action: east\n",
      "step 14 - action: west\n",
      "step 15 - action: north\n",
      "step 16 - action: west\n",
      "step 17 - action: south\n",
      "step 18 - action: west\n",
      "step 19 - action: north\n"
     ]
    },
    {
     "data": {
      "text/plain": "1"
     },
     "execution_count": 5,
     "metadata": {},
     "output_type": "execute_result"
    }
   ],
   "source": [
    "simple_environment(simple_randomized_agent, max_steps = 20)"
   ]
  },
  {
   "cell_type": "markdown",
   "metadata": {},
   "source": [
    "# Tasks\n",
    "\n",
    "## General [10 Points]\n",
    "\n",
    "1. Make sure that you use the latest version of this notebook. Sync your forked repository and pull the latest revision. \n",
    "2. Your implementation can use libraries like math, numpy, scipy, but not libraries that implement inteligent agents or complete search algorithms. Try to keep the code simple! In this course, we want to learn about the algorithms and we often do not need to use object-oriented design.\n",
    "3. You notebook needs to be formated professionally. \n",
    "    - Add additional markdown blocks for your description, comments in the code, add tables and use mathplotlib to produce charts where appropriate\n",
    "    - Do not show debugging output or include an excessive amount of output.\n",
    "    - Check that your PDF file is readable. For example, long lines are cut off in the PDF file. You don't have control over page breaks, so do not worry about these.\n",
    "4. Document your code. Add a short discussion of how your implementation works and your design choices.\n",
    "\n",
    "\n",
    "## Task 1: Implement a simulation environment [20 Points]\n",
    "\n",
    "The simple environment above is not very realistic. Your environment simulator needs to follow the PEAS description from above. It needs to:\n",
    "\n",
    "* Initialize the environment by storing the state of each square (clean/dirty) and making some dirty. ([Help with random numbers and arrays in Python](https://github.com/mhahsler/CS7320-AI/blob/master/Python_Code_Examples/random_numbers_and_arrays.ipynb))\n",
    "* Keep track of the agent's position.\n",
    "* Call the agent function repeatedly and provide the agent function with the sensor inputs.  \n",
    "* React to the agent's actions. E.g, by removing dirt from a square or moving the agent around unless there is a wall in the way.\n",
    "* Keep track of the performance measure. That is, track the agent's actions until all dirty squares are clean and count the number of actions it takes the agent to complete the task.\n",
    "\n",
    "The easiest implementation for the environment is to hold an 2-dimensional array to represent if squares are clean or dirty and to call the agent function in a loop until all squares are clean or a predefined number of steps have been reached (i.e., the robot runs out of energy).\n",
    "\n",
    "The simulation environment should be a function like the `simple_environment()` and needs to work with the simple randomized agent program from above. Use the same environmnt for all your agent implementations in the tasks below.\n",
    "\n",
    "*Note on debugging:* Debugging is difficult. Make sure your environment prints enough information when you use `verbose = True`. Also, implementing a function that the environment can use to displays the room with dirt and the current position of the robot at every step is very useful.  "
   ]
  },
  {
   "cell_type": "markdown",
   "source": [
    "This environment is configured for when the wall obstacles are added. It has two variables to keep track of the dirty spots in the area (which is randomly generated on line 7). If walls are enabled, then they are also generated on line 7 as well. The \"`room`\" (or space) is configured per tile as follows:\n",
    "\n",
    "   0. Values of 0 in the array correspond to empty tiles\n",
    "   1. Values of 1 in the array signify a dirty floor tile\n",
    "   2. Values of 2 are wall obstacles and cannot be moved into or through\n",
    "\n",
    "The `make_move()` function serves as a bounds checking method to make sure that the agent can move into a certain tile, or updates the dirty tile count if that is the action taken. If `verbose` is `True`, then it also serves as a record of what the agent has done.\n"
   ],
   "metadata": {
    "collapsed": false
   }
  },
  {
   "cell_type": "code",
   "execution_count": 16,
   "metadata": {},
   "outputs": [],
   "source": [
    "import random\n",
    "# Your code and description goes here\n",
    "def simulation_environment(agent, max_steps, size = 5, walls = False, verbose = True):\n",
    "\n",
    "    global room\n",
    "    room = np.random.randint(3 if walls else 2,size=(size,size))        #creating the space\n",
    "    global initial_dirty\n",
    "    initial_dirty = np.count_nonzero(room==1)                           #setting the maximum\n",
    "                                                                        #amount of dirty spaces\n",
    "    global current_dirty\n",
    "    current_dirty = initial_dirty                                       #used to track\n",
    "                                                                        #current amount of dirty\n",
    "                                                                        #squares\n",
    "    global position\n",
    "    position = (random.randrange(0,size),random.randrange(0,size))      #stores the position of\n",
    "                                                                        #the agent\n",
    "    while(room[position]==2):\n",
    "        position = (random.randrange(0,size),random.randrange(0,size))  #makes sure the agent\n",
    "                                                                        #does not initialize on\n",
    "                                                                        #top of a wall\n",
    "\n",
    "    def make_move(action):                                              # This next loop helps\n",
    "        global current_dirty,position,room                              # determine if the next\n",
    "        if action == \"suck\":                                            # made move is legal or\n",
    "            if(verbose):print(\"suck\",end=' ')                           # if it would put the\n",
    "            if room[position]==1:                                       # agent in a wall or out\n",
    "                current_dirty = current_dirty-1                         # of bounds\n",
    "                room[position] = 0\n",
    "                if(verbose):print(\"success\")\n",
    "            else:\n",
    "                if(verbose):print(\"failed\")\n",
    "        if action == \"north\":\n",
    "            if(verbose):print(\"moving north\",end=' ')\n",
    "            if position[0]!=0 and room[position[0]-1,position[1]]!=2:\n",
    "                position = (position[0]-1,position[1])\n",
    "                if(verbose):print(\"\",)\n",
    "            else:\n",
    "                if(verbose):print(\"blocked\")\n",
    "        if action == \"south\":\n",
    "            if(verbose):print(\"moving south\",end=' ')\n",
    "            if position[0]!=size-1 and room[position[0]+1,position[1]]!=2:\n",
    "                position = (position[0]+1,position[1])\n",
    "                if(verbose):print(\"\",)\n",
    "            else:\n",
    "                if(verbose):print(\"blocked\")\n",
    "        if action == \"east\":\n",
    "            if(verbose):print(\"moving east\",end=' ')\n",
    "            if position[1]!=size-1 and room[position[0],position[1]+1]!=2:\n",
    "                position = (position[0],position[1]+1)\n",
    "                if(verbose):print(\"\",)\n",
    "            else:\n",
    "                if(verbose):print(\"blocked\")\n",
    "        if action == \"west\":\n",
    "            if(verbose):print(\"moving west\",end=' ')\n",
    "            if position[1]!=0 and room[position[0],position[1]-1]!=2:\n",
    "                position = (position[0],position[1]-1)\n",
    "                if(verbose):print(\"\",)\n",
    "            else:\n",
    "                if(verbose):print(\"blocked\")\n",
    "\n",
    "\n",
    "    for i in range(max_steps):\n",
    "        dirty = room[position]\n",
    "        bumpers = {\"north\" : True if position[0]==0 else room[position[0]-1,position[1]]==2,\n",
    "                   \"south\" : True if position[0]==size-1 else room[position[0]+1,position[1]]==2,\n",
    "                   \"west\" : True if position[1]==0 else room[position[0],position[1]-1]==2,\n",
    "                   \"east\" : True if position[1]==size-1 else room[position[0],position[1]+1]==2}\n",
    "\n",
    "\n",
    "\n",
    "        if verbose:print(\"Step\",i,\"\\nat\",position)          #some printing code\n",
    "        action = agent(bumpers,dirty)\n",
    "        make_move(action)\n",
    "    if(verbose):print(\"\\n\\n\\n\")\n",
    "    if(verbose):print(\"Cleaned: \",initial_dirty-current_dirty,\"/\",initial_dirty,\"\\nSuccess rate:\",float(100*(initial_dirty-current_dirty)/initial_dirty),\"%\",sep=\"\")\n",
    "    if(verbose):print(\"returning\",(initial_dirty - current_dirty) / initial_dirty)\n",
    "    return (initial_dirty - current_dirty) / initial_dirty"
   ]
  },
  {
   "cell_type": "markdown",
   "metadata": {},
   "source": [
    "## Task 2:  Implement a simple reflex agent [10 Points] \n",
    "\n",
    "The simple reflex agent randomly walks around but reacts to the bumper sensor by not bumping into the wall and to dirt with sucking. Implement the agent program as a function.\n",
    "\n",
    "_Note:_ Agents cannot directly use variable in the environment. They only gets the percepts as the arguments to the agent function."
   ]
  },
  {
   "cell_type": "markdown",
   "source": [
    "This code is very simple. The engine of the agent is the `move()` function that randomly decides where to go"
   ],
   "metadata": {
    "collapsed": false
   }
  },
  {
   "cell_type": "code",
   "execution_count": 7,
   "metadata": {},
   "outputs": [],
   "source": [
    "class simple_reflex():\n",
    "    def __init__(self,verbose=True):\n",
    "        self.verbose = verbose\n",
    "\n",
    "    def move(self, bumpers, dirty):\n",
    "        if dirty:\n",
    "            if(self.verbose):print(\"suck\")      #this part of the loop just immediately looks for\n",
    "            return \"suck\"                       #a dirty tile and cleans it before anything else\n",
    "\n",
    "\n",
    "        else:\n",
    "            temp = self.choice(bumpers)\n",
    "            while((temp==\"north\" and bumpers['north']==True) or     #this loop randomly selects a\n",
    "                  (temp==\"south\" and bumpers['south']==True) or     #choice, but if the bumper for\n",
    "                  (temp==\"east\" and bumpers['east']==True) or       #that direction is on, then it\n",
    "                  (temp==\"west\" and bumpers['west']==True)):        #re-selects a direction\n",
    "                temp = self.choice(bumpers)\n",
    "\n",
    "            if(self.verbose):print(temp)\n",
    "            return temp                     #returns the selection\n",
    "\n",
    "\n",
    "    def choice(self,bumpers):\n",
    "        return np.random.choice([\"north\", \"east\", \"west\", \"south\"]) #randomly chooses a direction\n",
    "\n",
    "\n",
    "# verbose = False\n",
    "# reflex_agent = simple_reflex(verbose=verbose)\n",
    "# print(simulation_environment(reflex_agent.move,100,verbose=verbose)) if verbose else simulation_environment(reflex_agent.move,100,verbose=verbose)"
   ]
  },
  {
   "cell_type": "markdown",
   "metadata": {},
   "source": [
    "## Task 3: Implement a model-based reflex agent [20 Points]\n",
    "\n",
    "Model-based agents use a state to keep track of what they have done and perceived so far. Your agent needs to find out where it is located and then keep track of its current location. You also need a set of rules based on the state and the percepts to make sure that the agent will clean the whole room. For example, the agent can move to a corner to determine its location and then it can navigate through the whole room and clean dirty squares.\n",
    "\n",
    "Describe how you define the __agent state__ and how your agent works before implementing it. ([Help with implementing state information on Python](https://github.com/mhahsler/CS7320-AI/blob/master/Python_Code_Examples/store_agent_state_information.ipynb))"
   ]
  },
  {
   "cell_type": "markdown",
   "source": [
    "The Agent state is just an int, it begins in the 0 position, signifying that it has not been fully calibrated yet. it will progress up until it reaches phase 3, and then use the rest of its energy sucking if there is any left over. The phase values and their codes are as follows:\n",
    "\n",
    "0. Move north until it finds the north wall\n",
    "1. Move west until it finds the northwest corner\n",
    "2. Move alternating north/south by column until it finds the wall, then move one to the east and continue\n",
    "3. It has now found the east wall and prepares to make its final column traversal"
   ],
   "metadata": {
    "collapsed": false
   }
  },
  {
   "cell_type": "code",
   "execution_count": 8,
   "metadata": {},
   "outputs": [
    {
     "name": "stdout",
     "output_type": "stream",
     "text": [
      "1.0\n"
     ]
    }
   ],
   "source": [
    "class model_reflex():\n",
    "    def __init__(self,steplimit=100,verbose = True):\n",
    "        self.verbose = verbose\n",
    "        self.phase = 0\n",
    "        self.direction = \"north\"\n",
    "        self.next_direction = \"\"\n",
    "        self.steplimit = steplimit\n",
    "\n",
    "    def move(self,bumpers,dirty):                                   # this helps move the agent,\n",
    "        if dirty:                                                   # the first priority is\n",
    "            return \"suck\"                                           # cleaning, next is moving\n",
    "        if self.phase == 0 and bumpers['north']:                    # to the northwest corner\n",
    "            self.direction = \"west\"                                 # and then moving up and down\n",
    "            self.phase = 1                                          # by rows\n",
    "            if(self.verbose):print(\"setting phase to 0\")\n",
    "        if self.phase == 1 and bumpers['north'] and bumpers['west']:\n",
    "            self.direction = \"south\"\n",
    "            self.phase = 2\n",
    "            if(self.verbose):print(\"setting phase to 1\")\n",
    "        elif self.phase == 2:\n",
    "            if bumpers['east']:\n",
    "                self.direction=self.next_direction\n",
    "                self.next_direction=\"\"\n",
    "                self.phase=3\n",
    "            elif self.next_direction!=\"\":\n",
    "                self.direction=self.next_direction\n",
    "                self.next_direction=\"\"\n",
    "            elif bumpers['north']:\n",
    "                self.direction=\"east\"\n",
    "                self.next_direction=\"south\"\n",
    "            elif bumpers['south']:\n",
    "                self.direction=\"east\"\n",
    "                self.next_direction=\"north\"\n",
    "        elif self.phase == 3:\n",
    "            if self.next_direction!=\"\":\n",
    "                self.direction=self.next_direction\n",
    "                self.next_direction=\"\"\n",
    "            elif bumpers['east'] and (bumpers['north'] or bumpers['south']):\n",
    "                self.next_direction = \"\"\n",
    "                return \"suck\"\n",
    "\n",
    "\n",
    "        return(self.direction)\n",
    "agent = model_reflex(verbose=False)\n",
    "print(simulation_environment(agent.move,100,verbose=False))"
   ]
  },
  {
   "cell_type": "markdown",
   "metadata": {},
   "source": [
    "## Task 4: Simulation study [30 Points]\n",
    "\n",
    "Compare the performance (the performance measure is defined in the PEAS description above) of the agents using  environments of different size. E.g., $5 \\times 5$, $10 \\times 10$ and\n",
    "$100 \\times 100$. Use 100 random runs for each. Present the results using tables and graphs. Discuss the differences between the agents. \n",
    "([Help with charts and tables in Python](https://github.com/mhahsler/CS7320-AI/blob/master/Python_Code_Examples/charts_and_tables.ipynb))"
   ]
  },
  {
   "cell_type": "code",
   "execution_count": 14,
   "metadata": {},
   "outputs": [
    {
     "name": "stdout",
     "output_type": "stream",
     "text": [
      "9% 21% 66% \n"
     ]
    }
   ],
   "source": [
    "rand_agent_avg = 0.0\n",
    "simple_agent_avg = 0.0\n",
    "model_agent_avg = 0.0\n",
    "\n",
    "steps = 10000\n",
    "size = 100\n",
    "\n",
    "for i in range(100):\n",
    "    reflex_agent = simple_reflex(verbose=False)\n",
    "    model_agent = model_reflex(verbose=False)\n",
    "\n",
    "    rand_agent_avg = ((i*rand_agent_avg)+simulation_environment(simple_randomized_agent,max_steps=steps,verbose=False,size=size))/(i+1) if i !=0 else simulation_environment(simple_randomized_agent,max_steps=steps,verbose=False,size=size)\n",
    "    simple_agent_avg = ((i*simple_agent_avg)+simulation_environment(reflex_agent.move,max_steps=steps,verbose=False,size=size))/(i+1) if i !=0 else simulation_environment(reflex_agent.move,max_steps=steps,verbose=False,size=size)\n",
    "    model_agent_avg = ((i*model_agent_avg)+simulation_environment(model_agent.move,max_steps=steps,verbose=False,size=size))/(i+1) if i !=0 else simulation_environment(model_agent.move,max_steps=steps,verbose=False,size=size)\n",
    "\n",
    "\n",
    "print(int(rand_agent_avg*100),\"% \",int(simple_agent_avg*100),\"% \",int(model_agent_avg*100),\"% \",sep=\"\",end=\"\\n\")"
   ]
  },
  {
   "cell_type": "markdown",
   "metadata": {},
   "source": [
    "Fill out the following table with the average performance measure for 100 random runs (you may also create this table with code):\n",
    "\n",
    "| Size      | Randomized Agent | Simple Reflex Agent | Model-based Reflex Agent | Steps  |\n",
    "|-----------|------------------|---------------------|--------------------------|--------|\n",
    "| 5x5       | 14%              | 43%                 | 61%                      | 25     |\n",
    "| 10x10     | 11%              | 32%                 | 63%                      | 100    |\n",
    "| 100x100   | 9%               | 21%                 | 66%                      | 10,000 |\n",
    "\n",
    "Add charts to compare the performance of the different agents."
   ]
  },
  {
   "cell_type": "markdown",
   "metadata": {
    "pycharm": {
     "name": "#%% md\n"
    }
   },
   "source": [
    "My graphs seemed to not be able to show up, so I will just talk about them instead.\n",
    "\n",
    "I made a bar graph showing the three agents versus the three sizes, and noted that the randomized agent stayed at around 17% of the performance of the model based reflex agent, and that as the size increased, the percent of dirt cleared decreased for the randomized and simple reflex   agent decreased.\n",
    "Now, I defined the step count of each map size based off of getting the model based reflex agent being around 65% with a clean step count, so the increasing percentage of the model-based agent is purely coincidental. Nevertheless, the more space there is, the less was cleaned by the random and simple agents."
   ]
  },
  {
   "cell_type": "markdown",
   "metadata": {},
   "source": [
    "## Task 5: Robustness of the agent implementations [10 Points] \n",
    "\n",
    "Describe how your agent implementations will perform \n",
    "\n",
    "* if it is put into a rectangular room with unknown size, \n",
    "* if the cleaning area can have an iregular shape (e.g., a hallway connecting two rooms), or \n",
    "* if the room contains obstacles (i.e., squares that it cannot pass through and trigger the bumper sensors)."
   ]
  },
  {
   "cell_type": "markdown",
   "metadata": {
    "pycharm": {
     "name": "#%% md\n"
    }
   },
   "source": [
    "# Random Agent\n",
    "Generally speaking, for the random agent, there is no difference if there is a wall in any direction or not. This agent decides its move indiscriminately of the options proposed so the layout of the map or room does not have any affect on its choice making abilities.\n",
    "\n",
    "# Simple Reflex Agent\n",
    "For the simple reflex agent, it will still look around randomly, but it will not waste time running into walls, so it should perform relatively well. This is similar to the random agent, but it does not spend time bumping into walls and still moves around pseudorandomly.\n",
    "\n",
    "# Model Agent\n",
    "For the model agent, it will actually have its search area severely limited, so it will likely run less effectively than the other agents, but that is why I implemented the second model reflex agent below."
   ]
  },
  {
   "cell_type": "markdown",
   "metadata": {},
   "source": [
    "## Graduate student advanced task: Obstacles [10 Points]\n",
    "\n",
    "__Undergraduate students:__ This is a bonus task you can attempt if you like [+5 Bonus Points].\n",
    "\n",
    "1. Change your simulation environment tor run experiments for the following problem: Add random obstacle squares that also trigger the bumper sensor. The agent does not know where the obstacles are. Observe how this changes the performance of the three implementations.\n",
    "\n",
    "2. Describe what would need to be done to perform better with obstacles. Add code if you can. "
   ]
  },
  {
   "cell_type": "markdown",
   "source": [
    "## New Model-Based Reflex Agent\n",
    "It is now based on least \"cost\" of an action (not the one energy cost of moving or cleaning, but a term that describes the most informed choice) and finds its next move based on what makes the most sense. There are a few criterion that I implemented that change the appeal of each move:\n",
    "\n",
    "### Positive\n",
    "1. Maintaining the same direction of movement\n",
    "2. Moving away from the corner\n",
    "\n",
    "### Negative\n",
    "1. A wall is in the way\n",
    "2. The agent has already traveled to that tile\n",
    "\n",
    "\n",
    "## Other ideas\n",
    "### Positive\n",
    "1. checking corners or hallways of a map that have not been explored yet\n",
    "2. Pathfinding through a room with a relatively known layout\n",
    "\n",
    "### Negative\n",
    "1. subdividing the known internal map into areas occasionally and seeing if the next move would take it into a space where it would have to double back\n",
    "\n",
    "These together will help the agent decide its next move, the next step after that would be implementing code that would help decide two moves in advance, but that code is much more complicated than the scope of this project."
   ],
   "metadata": {
    "collapsed": false
   }
  },
  {
   "cell_type": "code",
   "execution_count": 21,
   "outputs": [],
   "source": [
    "class model_reflex():\n",
    "    def __init__(self, steplimit=100, verbose=True):\n",
    "        self.verbose = verbose\n",
    "        self.direction = \"north\"\n",
    "        self.next_direction = \"\"\n",
    "        self.map = np.zeros((steplimit, steplimit))\n",
    "        self.x = 0\n",
    "        self.y = 0\n",
    "        self.steplimit = steplimit\n",
    "\n",
    "    def move(self,bumpers,dirty):\n",
    "        if dirty:\n",
    "            if(self.verbose):print(\"suck\")      #this part of the loop just immediately looks for\n",
    "            return \"suck\"                       #a dirty tile and cleans it before anything else\n",
    "\n",
    "        directions = {'north':100, 'west': 100, 'south': 100, 'east': 100}\n",
    "        self.record(bumpers)                    #populates the internal map with all walls\n",
    "\n",
    "        directions = {k:directions[k]-(5 if k == self.direction else 0) for k in directions}\n",
    "        directions = {k:directions[k]+(20 if bumpers[k] else 0) for k in directions}\n",
    "        directions = {k:directions[k]+(10 if self.map[self.x,self.y]==1 else 0) for k in directions}\n",
    "\n",
    "\n",
    "        if(bumpers['north']):                   # choosing the next move based on if it is in the\n",
    "            if(bumpers['east']):                # corner\n",
    "                directions['west']-=6\n",
    "                directions['south']-=6\n",
    "            if(bumpers['west']):\n",
    "                directions['east']-=6\n",
    "                directions['south']-=6\n",
    "        if(bumpers['south']):\n",
    "            if(bumpers['east']):\n",
    "                directions['west']-=6\n",
    "                directions['north']-=6\n",
    "            if(bumpers['west']):\n",
    "                directions['east']-=6\n",
    "                directions['north']-=6\n",
    "        if(bumpers['east']):\n",
    "            if(bumpers['north']):\n",
    "                directions['west']-=6\n",
    "                directions['south']-=6\n",
    "            if(bumpers['south']):\n",
    "                directions['west']-=6\n",
    "                directions['north']-=6\n",
    "        if(bumpers['west']):\n",
    "            if(bumpers['south']):\n",
    "                directions['west']-=6\n",
    "                directions['north']-=6\n",
    "            if(bumpers['north']):\n",
    "                directions['south']-=6\n",
    "\n",
    "\n",
    "        if(self.verbose):print(bumpers)\n",
    "        if(self.verbose):print(directions)\n",
    "        if(self.verbose):print(list(dict(sorted(directions.items(), key=lambda x:x[1])).keys())[0])\n",
    "        self.direction = (list(dict(sorted(directions.items(), key=lambda x:x[1])).keys())[0])\n",
    "        self.map[self.x,self.y] = 1\n",
    "        if self.direction=='north':\n",
    "            self.x+=1\n",
    "        if self.direction=='south':\n",
    "            self.x-=1\n",
    "        if self.direction=='east':\n",
    "            self.y+=1\n",
    "        if self.direction=='west':\n",
    "            self.y-=1\n",
    "        return (list(dict(sorted(directions.items(), key=lambda x:x[1])).keys())[0])\n",
    "\n",
    "    def record(self,bumpers):\n",
    "        if(bumpers['north']):\n",
    "            self.map[self.x-1,self.y] = 2\n",
    "        if(bumpers['south']):\n",
    "            self.map[self.x+1,self.y] = 2\n",
    "        if(bumpers['east']):\n",
    "            self.map[self.x,self.y+1] = 2\n",
    "        if(bumpers['west']):\n",
    "            self.map[self.x,self.y-1] = 2"
   ],
   "metadata": {
    "collapsed": false,
    "pycharm": {
     "name": "#%%\n"
    }
   }
  },
  {
   "cell_type": "markdown",
   "metadata": {},
   "source": [
    "## More advanced implementation tasks\n",
    "\n",
    "* __Agent for and environment with obstacles:__ Implement an agent for an environment where the agent does not know how large the environment is (we assume it is rectangular), where it starts or where the obstacles are. An option would be to always move to the closest unchecked/uncleaned square (note that this is actualy depth-first search).\n",
    "\n",
    "* __Utility-based agent:__ Change the environment for a $5 \\times 5$ room, so each square has a fixed probability of getting dirty again. For the implementation, we give the environment a 2-dimensional array of probabilities. The utility of a state is defined as the number of currebntly clean squares in the room. Implement a utility-based agent that maximizes the expected utility over one full charge which lasts for 100000 time steps. To do this, the agent needs to learn the probabilities with which different squares get dirty again. This is very tricky!"
   ]
  },
  {
   "cell_type": "code",
   "execution_count": 13,
   "metadata": {},
   "outputs": [],
   "source": [
    "# Your ideas/code"
   ]
  }
 ],
 "metadata": {
  "kernelspec": {
   "display_name": "Python 3 (ipykernel)",
   "language": "python",
   "name": "python3"
  },
  "language_info": {
   "codemirror_mode": {
    "name": "ipython",
    "version": 3
   },
   "file_extension": ".py",
   "mimetype": "text/x-python",
   "name": "python",
   "nbconvert_exporter": "python",
   "pygments_lexer": "ipython3",
   "version": "3.9.5"
  },
  "toc-autonumbering": false
 },
 "nbformat": 4,
 "nbformat_minor": 4
}